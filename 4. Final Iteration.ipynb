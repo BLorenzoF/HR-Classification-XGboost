{
 "cells": [
  {
   "cell_type": "code",
   "execution_count": null,
   "id": "7d8fbdbe",
   "metadata": {},
   "outputs": [],
   "source": [
    "import pandas as pd\n",
    "import seaborn as sns\n",
    "import matplotlib.pyplot as plt\n",
    "import numpy as np\n",
    "pd.set_option('display.max_columns', 20)\n",
    "pd.set_option('display.max_rows', 20)\n",
    "pd.options.display.max_rows = 999\n",
    "\n",
    "\n",
    "from xgboost import XGBClassifier  \n",
    "from sklearn.model_selection import train_test_split\n",
    "from sklearn import metrics\n",
    "from sklearn.metrics import accuracy_score \n",
    "from sklearn.metrics import log_loss, roc_auc_score\n",
    "from sklearn.metrics import roc_curve\n"
   ]
  },
  {
   "cell_type": "code",
   "execution_count": null,
   "id": "a156e6b8",
   "metadata": {},
   "outputs": [],
   "source": [
    "#Load up trainhr.csv, with index being \"employee_id\"\n",
    "data_ori = pd.read_csv(\"train_hr.csv\",index_col = \"employee_id\")\n"
   ]
  },
  {
   "cell_type": "code",
   "execution_count": null,
   "id": "438b9a71",
   "metadata": {},
   "outputs": [],
   "source": [
    "#Making backup for modifications in this notebook\n",
    "data = data_ori "
   ]
  },
  {
   "cell_type": "code",
   "execution_count": null,
   "id": "932533de",
   "metadata": {},
   "outputs": [],
   "source": [
    "# Input missings\n",
    "data.education.fillna(\"Bachelor's\",inplace = True)\n",
    "data.previous_year_rating.fillna(3.0,inplace = True)"
   ]
  },
  {
   "cell_type": "markdown",
   "id": "8a030f49",
   "metadata": {},
   "source": [
    "### Grouping categorical values"
   ]
  },
  {
   "cell_type": "markdown",
   "id": "7a90cb2f",
   "metadata": {},
   "source": [
    "region column"
   ]
  },
  {
   "cell_type": "code",
   "execution_count": null,
   "id": "ceffe2e7",
   "metadata": {
    "scrolled": true
   },
   "outputs": [],
   "source": [
    "data['count_region']=data.groupby(\"region\")['gender'].transform('count')\n",
    "data[\"region_corrected\"] = data.region.where(data[\"count_region\"] >=2000, \"others_regions\")\n",
    "data[\"region_corrected\"].value_counts()\n",
    "data = data.drop(columns = ['count_region'])"
   ]
  },
  {
   "cell_type": "code",
   "execution_count": null,
   "id": "bc651eae",
   "metadata": {},
   "outputs": [],
   "source": [
    "#####º no_of_trainings.\n",
    "data[\"train_grouped\"] = np.where(data[\"no_of_trainings\"] >= 6, \"+6 trainings\",data[\"no_of_trainings\"])  \n",
    "\n",
    "data[\"train_grouped\"].dtype\n",
    "data[\"train_grouped\"].value_counts()"
   ]
  },
  {
   "cell_type": "markdown",
   "id": "1319ff84",
   "metadata": {},
   "source": [
    "### Converting categorical variables to dummies"
   ]
  },
  {
   "cell_type": "code",
   "execution_count": null,
   "id": "9e4b392a",
   "metadata": {},
   "outputs": [],
   "source": [
    "dt=pd.get_dummies(data,columns = [\"department\"], drop_first = False)\n",
    "dt=pd.get_dummies(dt,columns = [\"region_corrected\"], drop_first = False)\n",
    "dt=pd.get_dummies(dt,columns = [\"education\"], drop_first = False)\n",
    "dt=pd.get_dummies(dt,columns = [\"train_grouped\"], drop_first = False)\n",
    "dt=pd.get_dummies(dt,columns = [\"recruitment_channel\"], drop_first = False)\n",
    "dt=pd.get_dummies(dt,columns = [\"previous_year_rating\"], drop_first = False)\n",
    "dt=pd.get_dummies(dt,columns = [\"KPIs_met >80%\"], drop_first = True)\n",
    "dt=pd.get_dummies(dt,columns = [\"awards_won?\"], drop_first = True)\n",
    "dt =dt.drop(columns = ['region', 'no_of_trainings', 'gender'])\n"
   ]
  },
  {
   "cell_type": "code",
   "execution_count": null,
   "id": "3f65246b",
   "metadata": {},
   "outputs": [],
   "source": [
    "dt.head()"
   ]
  },
  {
   "cell_type": "code",
   "execution_count": null,
   "id": "c21d1190",
   "metadata": {},
   "outputs": [],
   "source": [
    "dt.dtypes"
   ]
  },
  {
   "cell_type": "code",
   "execution_count": null,
   "id": "b65b40fc",
   "metadata": {},
   "outputs": [],
   "source": [
    "# Separate features and target variable\n",
    "y = dt[\"is_promoted\"]\n",
    "X = dt.drop(\"is_promoted\", axis=1)\n"
   ]
  },
  {
   "cell_type": "code",
   "execution_count": null,
   "id": "ccfc9315",
   "metadata": {},
   "outputs": [],
   "source": [
    "# Split data into training and testing sets\n",
    "X_train, X_test, y_train, y_test = train_test_split(X, y, test_size=0.2, random_state=42)"
   ]
  },
  {
   "cell_type": "code",
   "execution_count": null,
   "id": "26a8c1f9",
   "metadata": {},
   "outputs": [],
   "source": [
    "# Define XGBoost model\n",
    "xgb_model = XGBClassifier(objective=\"binary:logistic\", \n",
    "                          n_estimators=100,\n",
    "                          learning_rate=0.1,\n",
    "                          )"
   ]
  },
  {
   "cell_type": "code",
   "execution_count": null,
   "id": "7067f26b",
   "metadata": {
    "scrolled": true
   },
   "outputs": [],
   "source": [
    "# Train XGBoost model\n",
    "xgb_model.fit(X_train, y_train)"
   ]
  },
  {
   "cell_type": "markdown",
   "id": "12fe4f57",
   "metadata": {},
   "source": [
    "### XGBoost Model training and application"
   ]
  },
  {
   "cell_type": "code",
   "execution_count": null,
   "id": "7f79ee11",
   "metadata": {},
   "outputs": [],
   "source": [
    "# Make predictions with XGBoost\n",
    "xgb_preds = xgb_model.predict(X_test)"
   ]
  },
  {
   "cell_type": "code",
   "execution_count": null,
   "id": "f3645e77",
   "metadata": {},
   "outputs": [],
   "source": [
    "y_pred_proba = xgb_model.predict_proba(X_test)"
   ]
  },
  {
   "cell_type": "code",
   "execution_count": null,
   "id": "7d90e627",
   "metadata": {},
   "outputs": [],
   "source": [
    "# Evaluating model performance\n",
    "xgb_acc = accuracy_score(y_test, xgb_preds)\n",
    "print(\"XGBoost accuracy:\", xgb_acc)"
   ]
  },
  {
   "cell_type": "code",
   "execution_count": null,
   "id": "18d16558",
   "metadata": {},
   "outputs": [],
   "source": [
    "# Calculate log loss\n",
    "log_loss(y_test, y_pred_proba)"
   ]
  },
  {
   "cell_type": "code",
   "execution_count": null,
   "id": "4376f511",
   "metadata": {},
   "outputs": [],
   "source": [
    "# Calculate ROC AUC\n",
    "auc = roc_auc_score(y_test, y_pred_proba[:,1])\n",
    "print('AUC: %.3f' % auc)"
   ]
  },
  {
   "cell_type": "code",
   "execution_count": null,
   "id": "18f5e936",
   "metadata": {},
   "outputs": [],
   "source": [
    "fpr, tpr, threshold = metrics.roc_curve(y_test, y_pred_proba[:,1])"
   ]
  },
  {
   "cell_type": "code",
   "execution_count": null,
   "id": "ae0d5caa",
   "metadata": {
    "scrolled": true
   },
   "outputs": [],
   "source": [
    "plt.title('Receiver Operating Characteristic')\n",
    "plt.plot(fpr, tpr, 'b', label = 'AUC = %0.2f' % auc)\n",
    "plt.legend(loc = 'lower right')\n",
    "plt.plot([0, 1], [0, 1],'r--')\n",
    "plt.xlim([0, 1])\n",
    "plt.ylim([0, 1])\n",
    "plt.ylabel('True Positive Rate')\n",
    "plt.xlabel('False Positive Rate')\n",
    "plt.show()"
   ]
  },
  {
   "cell_type": "code",
   "execution_count": null,
   "id": "a399449f",
   "metadata": {},
   "outputs": [],
   "source": [
    "#Precision Recall Curve\n",
    "\n",
    "from sklearn.metrics import precision_recall_curve\n",
    "\n",
    "yhat=xgb_model.predict_proba(X_test)\n",
    "pos_probs = pos_probs = yhat[:, 1]\n",
    "precision, recall, _ = precision_recall_curve(y_test, pos_probs)\n",
    "\n",
    "no_skill = len(y[y==1]) / len(y)"
   ]
  },
  {
   "cell_type": "code",
   "execution_count": null,
   "id": "952a5bde",
   "metadata": {},
   "outputs": [],
   "source": [
    "# plot the no skill precision-recall curve\n",
    "plt.plot([0, 1], [no_skill, no_skill], linestyle='--', label='No Skill')\n",
    "# calculate model precision-recall curve\n",
    "precision, recall, _ = precision_recall_curve(y_test, pos_probs)\n",
    "# plot the model precision-recall curve\n",
    "plt.plot(recall, precision, marker='.', label='Logistic')\n",
    "# axis labels\n",
    "plt.xlabel('Recall')\n",
    "plt.ylabel('Precision')\n",
    "# show the legend\n",
    "plt.legend()\n",
    "# show the plot\n",
    "plt.show()"
   ]
  },
  {
   "cell_type": "code",
   "execution_count": null,
   "id": "98147568",
   "metadata": {},
   "outputs": [],
   "source": [
    "from sklearn.metrics import classification_report\n",
    "\n",
    "# Print classification report\n",
    "print(classification_report(y_test, xgb_preds))"
   ]
  },
  {
   "cell_type": "code",
   "execution_count": null,
   "id": "02a9e2aa",
   "metadata": {},
   "outputs": [],
   "source": []
  }
 ],
 "metadata": {
  "kernelspec": {
   "display_name": "Python 3 (ipykernel)",
   "language": "python",
   "name": "python3"
  },
  "language_info": {
   "codemirror_mode": {
    "name": "ipython",
    "version": 3
   },
   "file_extension": ".py",
   "mimetype": "text/x-python",
   "name": "python",
   "nbconvert_exporter": "python",
   "pygments_lexer": "ipython3",
   "version": "3.10.0"
  }
 },
 "nbformat": 4,
 "nbformat_minor": 5
}
