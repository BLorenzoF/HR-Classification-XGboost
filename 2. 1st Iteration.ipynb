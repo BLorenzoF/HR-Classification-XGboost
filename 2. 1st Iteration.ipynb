{
 "cells": [
  {
   "cell_type": "code",
   "execution_count": 2,
   "id": "9117b6df",
   "metadata": {},
   "outputs": [],
   "source": [
    "import pandas as pd\n",
    "import seaborn as sns\n",
    "import matplotlib.pyplot as plt\n",
    "import numpy as np\n",
    "from sklearn.linear_model import LogisticRegression\n",
    "from sklearn.model_selection import train_test_split\n",
    "from sklearn import metrics\n",
    "from sklearn.metrics import accuracy_score\n",
    "from sklearn.metrics import ConfusionMatrixDisplay"
   ]
  },
  {
   "cell_type": "code",
   "execution_count": 3,
   "id": "00c6edbb",
   "metadata": {},
   "outputs": [],
   "source": [
    "#Load up trainhr.csv, with index being \"employee_id\"\n",
    "data_ori = pd.read_csv(\"train_hr.csv\",index_col = \"employee_id\")\n",
    "pd.set_option('display.max_columns', 20)"
   ]
  },
  {
   "cell_type": "code",
   "execution_count": 4,
   "id": "138461cd",
   "metadata": {},
   "outputs": [],
   "source": [
    "data = data_ori.copy()"
   ]
  },
  {
   "cell_type": "markdown",
   "id": "755b6b9f",
   "metadata": {},
   "source": [
    "## Input missings"
   ]
  },
  {
   "cell_type": "code",
   "execution_count": 5,
   "id": "74150a22",
   "metadata": {},
   "outputs": [
    {
     "data": {
      "text/plain": [
       "department              0.0\n",
       "region                  0.0\n",
       "education               0.0\n",
       "gender                  0.0\n",
       "recruitment_channel     0.0\n",
       "no_of_trainings         0.0\n",
       "age                     0.0\n",
       "previous_year_rating    0.0\n",
       "length_of_service       0.0\n",
       "KPIs_met >80%           0.0\n",
       "awards_won?             0.0\n",
       "avg_training_score      0.0\n",
       "is_promoted             0.0\n",
       "dtype: float64"
      ]
     },
     "execution_count": 5,
     "metadata": {},
     "output_type": "execute_result"
    }
   ],
   "source": [
    "\n",
    "data.education.fillna(\"Bachelor's\",inplace = True)\n",
    "data.previous_year_rating.fillna(3.0,inplace = True)\n",
    "\n",
    "## Checking if there are any missings left\n",
    "data.isnull().sum()/data.isnull().count()"
   ]
  },
  {
   "cell_type": "markdown",
   "id": "146f273c",
   "metadata": {},
   "source": [
    "### Converting categorical variables to dummies"
   ]
  },
  {
   "cell_type": "code",
   "execution_count": 6,
   "id": "0a1b25cc",
   "metadata": {},
   "outputs": [],
   "source": [
    "\n",
    "dt=pd.get_dummies(data,columns = [\"department\"], drop_first = False)\n",
    "dt=pd.get_dummies(dt,columns = [\"region\"], drop_first = False)\n",
    "dt=pd.get_dummies(dt,columns = [\"education\"], drop_first = False)\n",
    "dt=pd.get_dummies(dt,columns = [\"no_of_trainings\"], drop_first = False)\n",
    "dt=pd.get_dummies(dt,columns = [\"recruitment_channel\"], drop_first = False)\n",
    "dt=pd.get_dummies(dt,columns = [\"previous_year_rating\"], drop_first = False)\n",
    "dt=pd.get_dummies(dt,columns = [\"KPIs_met >80%\"], drop_first = True)\n",
    "dt=pd.get_dummies(dt,columns = [\"awards_won?\"], drop_first = True)\n",
    "dt=pd.get_dummies(dt,columns = [\"gender\"], drop_first = True)\n"
   ]
  },
  {
   "cell_type": "code",
   "execution_count": 8,
   "id": "17816ba8",
   "metadata": {},
   "outputs": [
    {
     "data": {
      "text/html": [
       "<div>\n",
       "<style scoped>\n",
       "    .dataframe tbody tr th:only-of-type {\n",
       "        vertical-align: middle;\n",
       "    }\n",
       "\n",
       "    .dataframe tbody tr th {\n",
       "        vertical-align: top;\n",
       "    }\n",
       "\n",
       "    .dataframe thead th {\n",
       "        text-align: right;\n",
       "    }\n",
       "</style>\n",
       "<table border=\"1\" class=\"dataframe\">\n",
       "  <thead>\n",
       "    <tr style=\"text-align: right;\">\n",
       "      <th></th>\n",
       "      <th>age</th>\n",
       "      <th>length_of_service</th>\n",
       "      <th>avg_training_score</th>\n",
       "      <th>is_promoted</th>\n",
       "      <th>department_Analytics</th>\n",
       "      <th>department_Finance</th>\n",
       "      <th>department_HR</th>\n",
       "      <th>department_Legal</th>\n",
       "      <th>department_Operations</th>\n",
       "      <th>department_Procurement</th>\n",
       "      <th>...</th>\n",
       "      <th>recruitment_channel_referred</th>\n",
       "      <th>recruitment_channel_sourcing</th>\n",
       "      <th>previous_year_rating_1.0</th>\n",
       "      <th>previous_year_rating_2.0</th>\n",
       "      <th>previous_year_rating_3.0</th>\n",
       "      <th>previous_year_rating_4.0</th>\n",
       "      <th>previous_year_rating_5.0</th>\n",
       "      <th>KPIs_met &gt;80%_1</th>\n",
       "      <th>awards_won?_1</th>\n",
       "      <th>gender_m</th>\n",
       "    </tr>\n",
       "    <tr>\n",
       "      <th>employee_id</th>\n",
       "      <th></th>\n",
       "      <th></th>\n",
       "      <th></th>\n",
       "      <th></th>\n",
       "      <th></th>\n",
       "      <th></th>\n",
       "      <th></th>\n",
       "      <th></th>\n",
       "      <th></th>\n",
       "      <th></th>\n",
       "      <th></th>\n",
       "      <th></th>\n",
       "      <th></th>\n",
       "      <th></th>\n",
       "      <th></th>\n",
       "      <th></th>\n",
       "      <th></th>\n",
       "      <th></th>\n",
       "      <th></th>\n",
       "      <th></th>\n",
       "      <th></th>\n",
       "    </tr>\n",
       "  </thead>\n",
       "  <tbody>\n",
       "    <tr>\n",
       "      <th>65438</th>\n",
       "      <td>35</td>\n",
       "      <td>8</td>\n",
       "      <td>49</td>\n",
       "      <td>0</td>\n",
       "      <td>False</td>\n",
       "      <td>False</td>\n",
       "      <td>False</td>\n",
       "      <td>False</td>\n",
       "      <td>False</td>\n",
       "      <td>False</td>\n",
       "      <td>...</td>\n",
       "      <td>False</td>\n",
       "      <td>True</td>\n",
       "      <td>False</td>\n",
       "      <td>False</td>\n",
       "      <td>False</td>\n",
       "      <td>False</td>\n",
       "      <td>True</td>\n",
       "      <td>True</td>\n",
       "      <td>False</td>\n",
       "      <td>False</td>\n",
       "    </tr>\n",
       "    <tr>\n",
       "      <th>65141</th>\n",
       "      <td>30</td>\n",
       "      <td>4</td>\n",
       "      <td>60</td>\n",
       "      <td>0</td>\n",
       "      <td>False</td>\n",
       "      <td>False</td>\n",
       "      <td>False</td>\n",
       "      <td>False</td>\n",
       "      <td>True</td>\n",
       "      <td>False</td>\n",
       "      <td>...</td>\n",
       "      <td>False</td>\n",
       "      <td>False</td>\n",
       "      <td>False</td>\n",
       "      <td>False</td>\n",
       "      <td>False</td>\n",
       "      <td>False</td>\n",
       "      <td>True</td>\n",
       "      <td>False</td>\n",
       "      <td>False</td>\n",
       "      <td>True</td>\n",
       "    </tr>\n",
       "    <tr>\n",
       "      <th>7513</th>\n",
       "      <td>34</td>\n",
       "      <td>7</td>\n",
       "      <td>50</td>\n",
       "      <td>0</td>\n",
       "      <td>False</td>\n",
       "      <td>False</td>\n",
       "      <td>False</td>\n",
       "      <td>False</td>\n",
       "      <td>False</td>\n",
       "      <td>False</td>\n",
       "      <td>...</td>\n",
       "      <td>False</td>\n",
       "      <td>True</td>\n",
       "      <td>False</td>\n",
       "      <td>False</td>\n",
       "      <td>True</td>\n",
       "      <td>False</td>\n",
       "      <td>False</td>\n",
       "      <td>False</td>\n",
       "      <td>False</td>\n",
       "      <td>True</td>\n",
       "    </tr>\n",
       "    <tr>\n",
       "      <th>2542</th>\n",
       "      <td>39</td>\n",
       "      <td>10</td>\n",
       "      <td>50</td>\n",
       "      <td>0</td>\n",
       "      <td>False</td>\n",
       "      <td>False</td>\n",
       "      <td>False</td>\n",
       "      <td>False</td>\n",
       "      <td>False</td>\n",
       "      <td>False</td>\n",
       "      <td>...</td>\n",
       "      <td>False</td>\n",
       "      <td>False</td>\n",
       "      <td>True</td>\n",
       "      <td>False</td>\n",
       "      <td>False</td>\n",
       "      <td>False</td>\n",
       "      <td>False</td>\n",
       "      <td>False</td>\n",
       "      <td>False</td>\n",
       "      <td>True</td>\n",
       "    </tr>\n",
       "    <tr>\n",
       "      <th>48945</th>\n",
       "      <td>45</td>\n",
       "      <td>2</td>\n",
       "      <td>73</td>\n",
       "      <td>0</td>\n",
       "      <td>False</td>\n",
       "      <td>False</td>\n",
       "      <td>False</td>\n",
       "      <td>False</td>\n",
       "      <td>False</td>\n",
       "      <td>False</td>\n",
       "      <td>...</td>\n",
       "      <td>False</td>\n",
       "      <td>False</td>\n",
       "      <td>False</td>\n",
       "      <td>False</td>\n",
       "      <td>True</td>\n",
       "      <td>False</td>\n",
       "      <td>False</td>\n",
       "      <td>False</td>\n",
       "      <td>False</td>\n",
       "      <td>True</td>\n",
       "    </tr>\n",
       "  </tbody>\n",
       "</table>\n",
       "<p>5 rows × 71 columns</p>\n",
       "</div>"
      ],
      "text/plain": [
       "             age  length_of_service  avg_training_score  is_promoted   \n",
       "employee_id                                                            \n",
       "65438         35                  8                  49            0  \\\n",
       "65141         30                  4                  60            0   \n",
       "7513          34                  7                  50            0   \n",
       "2542          39                 10                  50            0   \n",
       "48945         45                  2                  73            0   \n",
       "\n",
       "             department_Analytics  department_Finance  department_HR   \n",
       "employee_id                                                            \n",
       "65438                       False               False          False  \\\n",
       "65141                       False               False          False   \n",
       "7513                        False               False          False   \n",
       "2542                        False               False          False   \n",
       "48945                       False               False          False   \n",
       "\n",
       "             department_Legal  department_Operations  department_Procurement   \n",
       "employee_id                                                                    \n",
       "65438                   False                  False                   False  \\\n",
       "65141                   False                   True                   False   \n",
       "7513                    False                  False                   False   \n",
       "2542                    False                  False                   False   \n",
       "48945                   False                  False                   False   \n",
       "\n",
       "             ...  recruitment_channel_referred  recruitment_channel_sourcing   \n",
       "employee_id  ...                                                               \n",
       "65438        ...                         False                          True  \\\n",
       "65141        ...                         False                         False   \n",
       "7513         ...                         False                          True   \n",
       "2542         ...                         False                         False   \n",
       "48945        ...                         False                         False   \n",
       "\n",
       "             previous_year_rating_1.0  previous_year_rating_2.0   \n",
       "employee_id                                                       \n",
       "65438                           False                     False  \\\n",
       "65141                           False                     False   \n",
       "7513                            False                     False   \n",
       "2542                             True                     False   \n",
       "48945                           False                     False   \n",
       "\n",
       "             previous_year_rating_3.0  previous_year_rating_4.0   \n",
       "employee_id                                                       \n",
       "65438                           False                     False  \\\n",
       "65141                           False                     False   \n",
       "7513                             True                     False   \n",
       "2542                            False                     False   \n",
       "48945                            True                     False   \n",
       "\n",
       "             previous_year_rating_5.0  KPIs_met >80%_1  awards_won?_1   \n",
       "employee_id                                                             \n",
       "65438                            True             True          False  \\\n",
       "65141                            True            False          False   \n",
       "7513                            False            False          False   \n",
       "2542                            False            False          False   \n",
       "48945                           False            False          False   \n",
       "\n",
       "             gender_m  \n",
       "employee_id            \n",
       "65438           False  \n",
       "65141            True  \n",
       "7513             True  \n",
       "2542             True  \n",
       "48945            True  \n",
       "\n",
       "[5 rows x 71 columns]"
      ]
     },
     "execution_count": 8,
     "metadata": {},
     "output_type": "execute_result"
    }
   ],
   "source": [
    "dt.head()"
   ]
  },
  {
   "cell_type": "code",
   "execution_count": 9,
   "id": "1ab1082c",
   "metadata": {},
   "outputs": [
    {
     "data": {
      "text/plain": [
       "(54808, 71)"
      ]
     },
     "execution_count": 9,
     "metadata": {},
     "output_type": "execute_result"
    }
   ],
   "source": [
    "dt.shape"
   ]
  },
  {
   "cell_type": "markdown",
   "id": "ae526b79",
   "metadata": {},
   "source": [
    "### Separating the column to solve Y"
   ]
  },
  {
   "cell_type": "code",
   "execution_count": 9,
   "id": "92b229c9",
   "metadata": {},
   "outputs": [],
   "source": [
    "y = dt.is_promoted"
   ]
  },
  {
   "cell_type": "code",
   "execution_count": 10,
   "id": "b826f7d8",
   "metadata": {},
   "outputs": [
    {
     "data": {
      "text/plain": [
       "employee_id\n",
       "65438    0\n",
       "65141    0\n",
       "7513     0\n",
       "2542     0\n",
       "48945    0\n",
       "        ..\n",
       "3030     0\n",
       "74592    0\n",
       "13918    0\n",
       "13614    0\n",
       "51526    0\n",
       "Name: is_promoted, Length: 54808, dtype: int64"
      ]
     },
     "execution_count": 10,
     "metadata": {},
     "output_type": "execute_result"
    }
   ],
   "source": [
    "y"
   ]
  },
  {
   "cell_type": "code",
   "execution_count": 11,
   "id": "dfa6a7cb",
   "metadata": {},
   "outputs": [],
   "source": [
    "## Removing Y (is_promoted) from train \n",
    "dt.drop(\"is_promoted\",axis = 1, inplace = True)"
   ]
  },
  {
   "cell_type": "code",
   "execution_count": 12,
   "id": "14b40105",
   "metadata": {},
   "outputs": [],
   "source": [
    "### Creating train_test_split"
   ]
  },
  {
   "cell_type": "code",
   "execution_count": 13,
   "id": "f77b21b7",
   "metadata": {},
   "outputs": [],
   "source": [
    "x_train,x_test,y_train,y_test=train_test_split(dt,y,test_size=0.2)"
   ]
  },
  {
   "cell_type": "code",
   "execution_count": 14,
   "id": "1ddfcfdc",
   "metadata": {},
   "outputs": [],
   "source": [
    "##Creating a solver\n",
    "# Creo un solver\n",
    "clf = LogisticRegression(random_state=15, solver='lbfgs')"
   ]
  },
  {
   "cell_type": "code",
   "execution_count": 15,
   "id": "eaa269a1",
   "metadata": {},
   "outputs": [
    {
     "name": "stderr",
     "output_type": "stream",
     "text": [
      "C:\\Users\\brato\\AppData\\Local\\Programs\\Python\\Python310\\lib\\site-packages\\sklearn\\linear_model\\_logistic.py:469: ConvergenceWarning: lbfgs failed to converge (status=1):\n",
      "STOP: TOTAL NO. of ITERATIONS REACHED LIMIT.\n",
      "\n",
      "Increase the number of iterations (max_iter) or scale the data as shown in:\n",
      "    https://scikit-learn.org/stable/modules/preprocessing.html\n",
      "Please also refer to the documentation for alternative solver options:\n",
      "    https://scikit-learn.org/stable/modules/linear_model.html#logistic-regression\n",
      "  n_iter_i = _check_optimize_result(\n"
     ]
    }
   ],
   "source": [
    "# Adjusting the model according to the given data\n",
    "clf=clf.fit(x_train, y_train)"
   ]
  },
  {
   "cell_type": "code",
   "execution_count": 16,
   "id": "bf5a5508",
   "metadata": {},
   "outputs": [],
   "source": [
    "#prediction\n",
    "Y_pred=clf.predict(x_train)"
   ]
  },
  {
   "cell_type": "code",
   "execution_count": 17,
   "id": "2f4d882f",
   "metadata": {},
   "outputs": [
    {
     "name": "stdout",
     "output_type": "stream",
     "text": [
      "Score is: 0.9242120147789992\n",
      "Accuracy score is: 0.9242120147789992\n"
     ]
    }
   ],
   "source": [
    "# Returning mean accuracy of the first model \n",
    "print(\"Score is:\",clf.score(x_train, y_train))\n",
    "print(\"Accuracy score is:\",accuracy_score(Y_pred, y_train))"
   ]
  },
  {
   "cell_type": "markdown",
   "id": "146a0497",
   "metadata": {},
   "source": [
    "Takeaway:\n",
    "- Even if accuracy is 92%. Database is very unbalanced, I should find another metric.\n"
   ]
  },
  {
   "cell_type": "code",
   "execution_count": 19,
   "id": "25c960a8",
   "metadata": {},
   "outputs": [
    {
     "name": "stdout",
     "output_type": "stream",
     "text": [
      "[[39808   275]\n",
      " [ 3048   715]]\n"
     ]
    }
   ],
   "source": [
    "#Confusion matrix\n",
    "from sklearn.metrics import confusion_matrix\n",
    "\n",
    "cm = confusion_matrix(y_train, Y_pred)\n",
    "print(cm)"
   ]
  },
  {
   "cell_type": "code",
   "execution_count": 20,
   "id": "7cc5a878",
   "metadata": {},
   "outputs": [
    {
     "data": {
      "text/plain": [
       "<AxesSubplot:>"
      ]
     },
     "execution_count": 20,
     "metadata": {},
     "output_type": "execute_result"
    },
    {
     "data": {
      "image/png": "[encoded data removed]",
      "text/plain": [
       "<Figure size 432x288 with 2 Axes>"
      ]
     },
     "metadata": {
      "needs_background": "light"
     },
     "output_type": "display_data"
    }
   ],
   "source": [
    "\n",
    "sns.heatmap(cm,annot=True, fmt=\"d\")"
   ]
  },
  {
   "cell_type": "code",
   "execution_count": 21,
   "id": "d0c38510",
   "metadata": {},
   "outputs": [
    {
     "name": "stdout",
     "output_type": "stream",
     "text": [
      "Precision no promotion =  0.9953897527910686\n",
      "precision promotion =  0.7845622119815668\n"
     ]
    }
   ],
   "source": [
    "# Precision= True_Positive/ (True_Positive+ False_Positive)\n",
    "prec_no_as= (39943 / (39943+185))\n",
    "prec_as = (681 / (681+187))\n",
    "print( \"Precision no promotion = \", prec_no_as )\n",
    "print( \"precision promotion = \", prec_as )\n",
    "                                 "
   ]
  },
  {
   "cell_type": "code",
   "execution_count": 22,
   "id": "5b97955c",
   "metadata": {},
   "outputs": [
    {
     "name": "stdout",
     "output_type": "stream",
     "text": [
      "Recall no promotion =  0.9293392275476966\n",
      "Recall promotion =  0.7863741339491916\n"
     ]
    }
   ],
   "source": [
    "#Recall= True_Positive/ (True_Positive+ False_Negative) = Sensitivity\n",
    "\n",
    "recall_no_as = 39943/ (39943+3037)\n",
    "recall_as = 681 /(681+ 185)\n",
    "print(\"Recall no promotion = \",recall_no_as)\n",
    "print(\"Recall promotion = \",recall_as)"
   ]
  },
  {
   "cell_type": "code",
   "execution_count": 23,
   "id": "2d6e687d",
   "metadata": {},
   "outputs": [
    {
     "name": "stdout",
     "output_type": "stream",
     "text": [
      "F1_score of promotion: 0.7854671280276817\n"
     ]
    }
   ],
   "source": [
    "# F1-score= 2*Precision*Recall/(Precision+Recall) harmonic mean of precision and recall.\n",
    "\n",
    "f1_score =2*prec_as*recall_as /(prec_as + recall_as)\n",
    "print(\"F1_score of promotion:\",f1_score)"
   ]
  },
  {
   "cell_type": "code",
   "execution_count": 24,
   "id": "5687b2b7",
   "metadata": {},
   "outputs": [
    {
     "name": "stdout",
     "output_type": "stream",
     "text": [
      "0.9953897527910686\n"
     ]
    }
   ],
   "source": [
    "#Specificity= True Negative Rate= TN/(TN+FP)\n",
    "\n",
    "TNR = 39943 /(39943+185)\n",
    "print(TNR)"
   ]
  },
  {
   "cell_type": "markdown",
   "id": "a5098ede",
   "metadata": {},
   "source": [
    "ROC Curve receiver operating characteristic curve is plot which shows the performance of a \n",
    "binary classifier as function of its cut-off threshold.\n",
    "It essentially shows the true positive rate (TPR) against the false positive rate (FPR) for various threshold values"
   ]
  },
  {
   "cell_type": "code",
   "execution_count": 25,
   "id": "d964eb93",
   "metadata": {},
   "outputs": [
    {
     "name": "stderr",
     "output_type": "stream",
     "text": [
      "C:\\Users\\brato\\AppData\\Local\\Programs\\Python\\Python310\\lib\\site-packages\\sklearn\\linear_model\\_logistic.py:469: ConvergenceWarning: lbfgs failed to converge (status=1):\n",
      "STOP: TOTAL NO. of ITERATIONS REACHED LIMIT.\n",
      "\n",
      "Increase the number of iterations (max_iter) or scale the data as shown in:\n",
      "    https://scikit-learn.org/stable/modules/preprocessing.html\n",
      "Please also refer to the documentation for alternative solver options:\n",
      "    https://scikit-learn.org/stable/modules/linear_model.html#logistic-regression\n",
      "  n_iter_i = _check_optimize_result(\n"
     ]
    }
   ],
   "source": [
    "clf=clf.fit(x_train, y_train)"
   ]
  },
  {
   "cell_type": "code",
   "execution_count": 26,
   "id": "ad9379a9",
   "metadata": {},
   "outputs": [],
   "source": [
    "from sklearn.metrics import roc_curve\n",
    "probs=clf.predict_proba(x_train)\n",
    "probs[:,1]\n",
    "fpr, tpr, thresholds = roc_curve(y_train, probs[:,1])"
   ]
  },
  {
   "cell_type": "code",
   "execution_count": 27,
   "id": "203448b5",
   "metadata": {},
   "outputs": [
    {
     "name": "stdout",
     "output_type": "stream",
     "text": [
      "AUC: 0.861\n"
     ]
    }
   ],
   "source": [
    "#AUC\n",
    "from sklearn.metrics import roc_auc_score\n",
    "auc = roc_auc_score(y_train, probs[:,1])\n",
    "print('AUC: %.3f' % auc)"
   ]
  },
  {
   "cell_type": "code",
   "execution_count": 28,
   "id": "6b0248de",
   "metadata": {},
   "outputs": [
    {
     "data": {
      "image/png": "[encoded data removed]",
      "text/plain": [
       "<Figure size 432x288 with 1 Axes>"
      ]
     },
     "metadata": {
      "needs_background": "light"
     },
     "output_type": "display_data"
    }
   ],
   "source": [
    "roc_auc = metrics.auc(fpr, tpr)\n",
    "plt.title('Receiver Operating Characteristic')\n",
    "plt.plot(fpr, tpr, 'b', label = 'AUC = %0.2f' % roc_auc)\n",
    "plt.legend(loc = 'lower right')\n",
    "plt.plot([0, 1], [0, 1],'r--')\n",
    "plt.xlim([0, 1])\n",
    "plt.ylim([0, 1])\n",
    "plt.ylabel('True Positive Rate')\n",
    "plt.xlabel('False Positive Rate')\n",
    "plt.show()"
   ]
  },
  {
   "cell_type": "code",
   "execution_count": 1,
   "id": "2a5f10c8",
   "metadata": {},
   "outputs": [
    {
     "ename": "NameError",
     "evalue": "name 'clf' is not defined",
     "output_type": "error",
     "traceback": [
      "\u001b[1;31m---------------------------------------------------------------------------\u001b[0m",
      "\u001b[1;31mNameError\u001b[0m                                 Traceback (most recent call last)",
      "\u001b[1;32m~\\AppData\\Local\\Temp/ipykernel_13424/3669301320.py\u001b[0m in \u001b[0;36m<module>\u001b[1;34m\u001b[0m\n\u001b[0;32m      4\u001b[0m \u001b[1;32mfrom\u001b[0m \u001b[0msklearn\u001b[0m\u001b[1;33m.\u001b[0m\u001b[0mmetrics\u001b[0m \u001b[1;32mimport\u001b[0m \u001b[0mprecision_recall_curve\u001b[0m\u001b[1;33m\u001b[0m\u001b[1;33m\u001b[0m\u001b[0m\n\u001b[0;32m      5\u001b[0m \u001b[1;33m\u001b[0m\u001b[0m\n\u001b[1;32m----> 6\u001b[1;33m \u001b[0myhat\u001b[0m\u001b[1;33m=\u001b[0m\u001b[0mclf\u001b[0m\u001b[1;33m.\u001b[0m\u001b[0mpredict_proba\u001b[0m\u001b[1;33m(\u001b[0m\u001b[0mx_test\u001b[0m\u001b[1;33m)\u001b[0m\u001b[1;33m\u001b[0m\u001b[1;33m\u001b[0m\u001b[0m\n\u001b[0m\u001b[0;32m      7\u001b[0m \u001b[0mpos_probs\u001b[0m \u001b[1;33m=\u001b[0m \u001b[0mpos_probs\u001b[0m \u001b[1;33m=\u001b[0m \u001b[0myhat\u001b[0m\u001b[1;33m[\u001b[0m\u001b[1;33m:\u001b[0m\u001b[1;33m,\u001b[0m \u001b[1;36m1\u001b[0m\u001b[1;33m]\u001b[0m\u001b[1;33m\u001b[0m\u001b[1;33m\u001b[0m\u001b[0m\n\u001b[0;32m      8\u001b[0m \u001b[0mprecision\u001b[0m\u001b[1;33m,\u001b[0m \u001b[0mrecall\u001b[0m\u001b[1;33m,\u001b[0m \u001b[0m_\u001b[0m \u001b[1;33m=\u001b[0m \u001b[0mprecision_recall_curve\u001b[0m\u001b[1;33m(\u001b[0m\u001b[0my_test\u001b[0m\u001b[1;33m,\u001b[0m \u001b[0mpos_probs\u001b[0m\u001b[1;33m)\u001b[0m\u001b[1;33m\u001b[0m\u001b[1;33m\u001b[0m\u001b[0m\n",
      "\u001b[1;31mNameError\u001b[0m: name 'clf' is not defined"
     ]
    }
   ],
   "source": [
    "#Precision Recall Curve\n",
    "#The main difference between ROC curves and precision-recall curves is that the number of true-negative results is not used for making a PRC. \n",
    "#my Ideal objective is 100% precision and 100% recall\n",
    "from sklearn.metrics import precision_recall_curve\n",
    "\n",
    "yhat=clf.predict_proba(x_test)\n",
    "pos_probs = pos_probs = yhat[:, 1]\n",
    "precision, recall, _ = precision_recall_curve(y_test, pos_probs)\n",
    "\n",
    "no_skill = len(y[y==1]) / len(y)"
   ]
  },
  {
   "cell_type": "code",
   "execution_count": 32,
   "id": "2e91562e",
   "metadata": {},
   "outputs": [
    {
     "data": {
      "image/png": "[encoded data removed]",
      "text/plain": [
       "<Figure size 432x288 with 1 Axes>"
      ]
     },
     "metadata": {
      "needs_background": "light"
     },
     "output_type": "display_data"
    }
   ],
   "source": [
    "# plot the no skill precision-recall curve\n",
    "plt.plot([0, 1], [no_skill, no_skill], linestyle='--', label='No Skill')\n",
    "# calculate model precision-recall curve\n",
    "precision, recall, _ = precision_recall_curve(y_test, pos_probs)\n",
    "# plot the model precision-recall curve\n",
    "plt.plot(recall, precision, marker='.', label='Logistic')\n",
    "# axis labels\n",
    "plt.xlabel('Recall')\n",
    "plt.ylabel('Precision')\n",
    "# show the legend\n",
    "plt.legend()\n",
    "# show the plot\n",
    "plt.show()"
   ]
  },
  {
   "cell_type": "markdown",
   "id": "b835d958",
   "metadata": {},
   "source": [
    "We have overfitting between train and test. To secure in this first iteration\n"
   ]
  },
  {
   "cell_type": "code",
   "execution_count": null,
   "id": "91818877",
   "metadata": {},
   "outputs": [],
   "source": []
  }
 ],
 "metadata": {
  "kernelspec": {
   "display_name": "Python 3 (ipykernel)",
   "language": "python",
   "name": "python3"
  },
  "language_info": {
   "codemirror_mode": {
    "name": "ipython",
    "version": 3
   },
   "file_extension": ".py",
   "mimetype": "text/x-python",
   "name": "python",
   "nbconvert_exporter": "python",
   "pygments_lexer": "ipython3",
   "version": "3.10.0"
  }
 },
 "nbformat": 4,
 "nbformat_minor": 5
}
