{
 "cells": [
  {
   "cell_type": "markdown",
   "id": "75be60b2",
   "metadata": {},
   "source": [
    "### About the project\n",
    "\n",
    "* Client is a large multi national company providing different services\n",
    "* A way to ease the promotion process is needed, helping identify the right people for promotion\n"
   ]
  },
  {
   "cell_type": "code",
   "execution_count": 29,
   "id": "50b94bfd",
   "metadata": {},
   "outputs": [],
   "source": [
    "import pandas as pd\n",
    "import seaborn as sns\n",
    "import matplotlib.pyplot as plt \n",
    "from matplotlib.pyplot import show\n",
    "pd.set_option('display.max_colwidth', 0) #So the text is not truncated\n",
    "data = pd.read_csv(\"train_hr.csv\")\n",
    "expectations = pd.read_csv('columns.csv')"
   ]
  },
  {
   "cell_type": "code",
   "execution_count": 32,
   "id": "cc9b188e",
   "metadata": {},
   "outputs": [
    {
     "data": {
      "text/html": [
       "<div>\n",
       "<style scoped>\n",
       "    .dataframe tbody tr th:only-of-type {\n",
       "        vertical-align: middle;\n",
       "    }\n",
       "\n",
       "    .dataframe tbody tr th {\n",
       "        vertical-align: top;\n",
       "    }\n",
       "\n",
       "    .dataframe thead th {\n",
       "        text-align: right;\n",
       "    }\n",
       "</style>\n",
       "<table border=\"1\" class=\"dataframe\">\n",
       "  <thead>\n",
       "    <tr style=\"text-align: right;\">\n",
       "      <th></th>\n",
       "      <th>Variable</th>\n",
       "      <th>Type</th>\n",
       "      <th>Expectation</th>\n",
       "      <th>Comments</th>\n",
       "    </tr>\n",
       "  </thead>\n",
       "  <tbody>\n",
       "    <tr>\n",
       "      <th>0</th>\n",
       "      <td>Department</td>\n",
       "      <td>Object</td>\n",
       "      <td>Medium.</td>\n",
       "      <td>The bigger the department, more people will be promoted from that department, but there is a minimum expected of promotions from each department.</td>\n",
       "    </tr>\n",
       "    <tr>\n",
       "      <th>1</th>\n",
       "      <td>Region</td>\n",
       "      <td>Object</td>\n",
       "      <td>Medium</td>\n",
       "      <td>Size of region related to the amount of departments.</td>\n",
       "    </tr>\n",
       "    <tr>\n",
       "      <th>2</th>\n",
       "      <td>Education</td>\n",
       "      <td>Object</td>\n",
       "      <td>High</td>\n",
       "      <td>Level of education expected to be important when promoting.</td>\n",
       "    </tr>\n",
       "    <tr>\n",
       "      <th>3</th>\n",
       "      <td>Gender</td>\n",
       "      <td>Object</td>\n",
       "      <td>Low</td>\n",
       "      <td>If the company operates at an expected level of equity, gender shouldn't be important in the promotion process. Have to be careful on not establishing a gender bias in the model.</td>\n",
       "    </tr>\n",
       "    <tr>\n",
       "      <th>4</th>\n",
       "      <td>Recruitment Channel</td>\n",
       "      <td>Object</td>\n",
       "      <td>Low</td>\n",
       "      <td>The way the employee was recruited shouldn't e important, but it is probable we might fin an insight when analyzing the data</td>\n",
       "    </tr>\n",
       "    <tr>\n",
       "      <th>5</th>\n",
       "      <td>Number of Trainings</td>\n",
       "      <td>Numeric</td>\n",
       "      <td>High</td>\n",
       "      <td>Number of trainings is expected to be highly regarded</td>\n",
       "    </tr>\n",
       "    <tr>\n",
       "      <th>6</th>\n",
       "      <td>Age</td>\n",
       "      <td>Numeric</td>\n",
       "      <td>Low</td>\n",
       "      <td>While not excluding, age might determine laboral experience</td>\n",
       "    </tr>\n",
       "    <tr>\n",
       "      <th>7</th>\n",
       "      <td>Previous year rating</td>\n",
       "      <td>Numeric</td>\n",
       "      <td>High</td>\n",
       "      <td>If employee rating is high, it is expected to have more options of being promoted</td>\n",
       "    </tr>\n",
       "    <tr>\n",
       "      <th>8</th>\n",
       "      <td>Length of service</td>\n",
       "      <td>Numeric</td>\n",
       "      <td>High</td>\n",
       "      <td>This variable might be correlated with age, I consider this column to be important due to the knowledge of how the company works</td>\n",
       "    </tr>\n",
       "    <tr>\n",
       "      <th>9</th>\n",
       "      <td>KPIs_met &gt;80%</td>\n",
       "      <td>Binary</td>\n",
       "      <td>High</td>\n",
       "      <td>Employees considered to be promoted are the ones with KPI's better than 60%.</td>\n",
       "    </tr>\n",
       "    <tr>\n",
       "      <th>10</th>\n",
       "      <td>Awards_won</td>\n",
       "      <td>Binary</td>\n",
       "      <td>High</td>\n",
       "      <td>Very important for promotion if employee is awarded by the company.</td>\n",
       "    </tr>\n",
       "    <tr>\n",
       "      <th>11</th>\n",
       "      <td>Avg_training_score</td>\n",
       "      <td>Numeric</td>\n",
       "      <td>High</td>\n",
       "      <td>Training score, with number of trainings should be important to demonstrate the worker's abilities</td>\n",
       "    </tr>\n",
       "  </tbody>\n",
       "</table>\n",
       "</div>"
      ],
      "text/plain": [
       "                Variable     Type Expectation   \n",
       "0   Department            Object   Medium.     \\\n",
       "1   Region                Object   Medium       \n",
       "2   Education             Object   High         \n",
       "3   Gender                Object   Low          \n",
       "4   Recruitment Channel   Object   Low          \n",
       "5   Number of Trainings   Numeric  High         \n",
       "6   Age                   Numeric  Low          \n",
       "7   Previous year rating  Numeric  High         \n",
       "8   Length of service     Numeric  High         \n",
       "9   KPIs_met >80%         Binary   High         \n",
       "10  Awards_won            Binary   High         \n",
       "11  Avg_training_score    Numeric  High         \n",
       "\n",
       "                                                                                                                                                                              Comments  \n",
       "0   The bigger the department, more people will be promoted from that department, but there is a minimum expected of promotions from each department.                                   \n",
       "1   Size of region related to the amount of departments.                                                                                                                                \n",
       "2   Level of education expected to be important when promoting.                                                                                                                         \n",
       "3   If the company operates at an expected level of equity, gender shouldn't be important in the promotion process. Have to be careful on not establishing a gender bias in the model.  \n",
       "4   The way the employee was recruited shouldn't e important, but it is probable we might fin an insight when analyzing the data                                                        \n",
       "5   Number of trainings is expected to be highly regarded                                                                                                                               \n",
       "6   While not excluding, age might determine laboral experience                                                                                                                         \n",
       "7   If employee rating is high, it is expected to have more options of being promoted                                                                                                   \n",
       "8   This variable might be correlated with age, I consider this column to be important due to the knowledge of how the company works                                                    \n",
       "9   Employees considered to be promoted are the ones with KPI's better than 60%.                                                                                                        \n",
       "10  Very important for promotion if employee is awarded by the company.                                                                                                                 \n",
       "11  Training score, with number of trainings should be important to demonstrate the worker's abilities                                                                                  "
      ]
     },
     "execution_count": 32,
     "metadata": {},
     "output_type": "execute_result"
    }
   ],
   "source": [
    "expectations"
   ]
  },
  {
   "cell_type": "markdown",
   "id": "cd8fa2a9",
   "metadata": {},
   "source": [
    "# Output (Y) variable analysis"
   ]
  },
  {
   "cell_type": "code",
   "execution_count": 3,
   "id": "1bbe6ba0",
   "metadata": {
    "scrolled": true
   },
   "outputs": [
    {
     "data": {
      "text/plain": [
       "<AxesSubplot:xlabel='is_promoted', ylabel='count'>"
      ]
     },
     "execution_count": 3,
     "metadata": {},
     "output_type": "execute_result"
    },
    {
     "data": {
      "image/png": "[encoded data removed]",
      "text/plain": [
       "<Figure size 432x288 with 1 Axes>"
      ]
     },
     "metadata": {
      "needs_background": "light"
     },
     "output_type": "display_data"
    }
   ],
   "source": [
    "train=pd.read_csv(\"train_hr.csv\",index_col = \"employee_id\")\n",
    "datos = train.copy()\n",
    "\n",
    "datos.head()\n",
    "\n",
    "datos.is_promoted.value_counts()/datos.is_promoted.size\n",
    "sns.countplot(x= \"is_promoted\",data = datos)\n",
    "#Approximately 9% of the workforce is promoted"
   ]
  },
  {
   "cell_type": "markdown",
   "id": "e6516f9e",
   "metadata": {},
   "source": [
    "# Bi-variable analysis"
   ]
  },
  {
   "cell_type": "markdown",
   "id": "ee3dfcdb",
   "metadata": {},
   "source": [
    "##### Y with DEPARTMENT"
   ]
  },
  {
   "cell_type": "code",
   "execution_count": 4,
   "id": "54cd8ded",
   "metadata": {},
   "outputs": [
    {
     "data": {
      "text/plain": [
       "department\n",
       "Sales & Marketing    30.725442\n",
       "Operations           20.705007\n",
       "Technology           13.023646\n",
       "Procurement          13.023646\n",
       "Analytics             9.764998\n",
       "Finance               4.627062\n",
       "HR                    4.411765\n",
       "Legal                 1.895709\n",
       "R&D                   1.822727\n",
       "Name: count, dtype: float64"
      ]
     },
     "execution_count": 4,
     "metadata": {},
     "output_type": "execute_result"
    }
   ],
   "source": [
    "# Percentage of personnel in each department\n",
    "100 * datos['department'].value_counts() / len(datos['department'])\n"
   ]
  },
  {
   "cell_type": "code",
   "execution_count": 7,
   "id": "91ac0e7a",
   "metadata": {},
   "outputs": [
    {
     "data": {
      "text/plain": [
       "<matplotlib.legend.Legend at 0x228eacc7280>"
      ]
     },
     "execution_count": 7,
     "metadata": {},
     "output_type": "execute_result"
    },
    {
     "data": {
      "image/png": "[encoded data removed]",
      "text/plain": [
       "<Figure size 432x288 with 1 Axes>"
      ]
     },
     "metadata": {
      "needs_background": "light"
     },
     "output_type": "display_data"
    }
   ],
   "source": [
    "cross_tab=pd.crosstab(index=datos['department'], columns=datos['is_promoted'], margins=False)\n",
    "\n",
    "pd.crosstab(datos['department'], datos['is_promoted']).apply(lambda r: r/r.sum(), axis=1) \n",
    "\n",
    "cross_tab.plot.bar(stacked=True)\n",
    "\n",
    "plt.legend(title='promoted')\n"
   ]
  },
  {
   "cell_type": "markdown",
   "id": "4bd88e99",
   "metadata": {},
   "source": [
    "## Takeaways\n",
    "\n",
    "Approx 9% of the workforce is promoted\n",
    "\n",
    "Promotion percentage related to deparment between 5% and 10%\n",
    "\n",
    "The smaller the deparment, less promotion possibilities\n"
   ]
  },
  {
   "cell_type": "markdown",
   "id": "920e18e6",
   "metadata": {},
   "source": [
    "#### Y with region"
   ]
  },
  {
   "cell_type": "code",
   "execution_count": 40,
   "id": "8555c611",
   "metadata": {},
   "outputs": [
    {
     "name": "stdout",
     "output_type": "stream",
     "text": [
      "region\n",
      "region_2     22.520435\n",
      "region_22    11.728215\n",
      "region_7     8.836301 \n",
      "region_15    5.123340 \n",
      "region_13    4.831411 \n",
      "region_26    4.123486 \n",
      "region_31    3.530506 \n",
      "region_4     3.107211 \n",
      "region_27    3.026930 \n",
      "region_16    2.672967 \n",
      "region_28    2.404758 \n",
      "region_11    2.399285 \n",
      "region_23    2.143848 \n",
      "region_29    1.813604 \n",
      "region_32    1.724201 \n",
      "region_19    1.594658 \n",
      "region_20    1.550868 \n",
      "region_14    1.508904 \n",
      "region_25    1.494307 \n",
      "region_17    1.452343 \n",
      "region_5     1.397606 \n",
      "region_6     1.258940 \n",
      "region_30    1.198730 \n",
      "region_8     1.195081 \n",
      "region_10    1.182309 \n",
      "region_1     1.112976 \n",
      "region_24    0.926872 \n",
      "region_12    0.912276 \n",
      "region_9     0.766311 \n",
      "region_21    0.749891 \n",
      "region_3     0.631295 \n",
      "region_34    0.532769 \n",
      "region_33    0.490804 \n",
      "region_18    0.056561 \n",
      "Name: count, dtype: float64\n"
     ]
    },
    {
     "data": {
      "text/plain": [
       "<AxesSubplot:xlabel='region'>"
      ]
     },
     "execution_count": 40,
     "metadata": {},
     "output_type": "execute_result"
    },
    {
     "data": {
      "image/png": "[encoded data removed]",
      "text/plain": [
       "<Figure size 432x288 with 1 Axes>"
      ]
     },
     "metadata": {
      "needs_background": "light"
     },
     "output_type": "display_data"
    }
   ],
   "source": [
    "print(100 * datos['region'].value_counts() / len(datos['region']))\n",
    "cross_tab_region=pd.crosstab(index=datos['region'], columns=datos['is_promoted'], margins=False)\n",
    "\n",
    "cross_tab_region.plot.bar(stacked=True)\n"
   ]
  },
  {
   "cell_type": "markdown",
   "id": "fb082513",
   "metadata": {},
   "source": [
    "Takeaway of region category: 3 main regions"
   ]
  },
  {
   "cell_type": "markdown",
   "id": "a2723591",
   "metadata": {},
   "source": [
    "#### Y with Education\n",
    "Education column has missings, so first we will treat the missings"
   ]
  },
  {
   "cell_type": "code",
   "execution_count": 9,
   "id": "fcc51d20",
   "metadata": {},
   "outputs": [
    {
     "data": {
      "text/plain": [
       "department              0.000000\n",
       "region                  0.000000\n",
       "education               0.043953\n",
       "gender                  0.000000\n",
       "recruitment_channel     0.000000\n",
       "no_of_trainings         0.000000\n",
       "age                     0.000000\n",
       "previous_year_rating    0.075244\n",
       "length_of_service       0.000000\n",
       "KPIs_met >80%           0.000000\n",
       "awards_won?             0.000000\n",
       "avg_training_score      0.000000\n",
       "is_promoted             0.000000\n",
       "dtype: float64"
      ]
     },
     "execution_count": 9,
     "metadata": {},
     "output_type": "execute_result"
    }
   ],
   "source": [
    "datos.isnull().sum()/datos.isnull().count() #Education has missings"
   ]
  },
  {
   "cell_type": "code",
   "execution_count": 14,
   "id": "aae1e2c9",
   "metadata": {},
   "outputs": [
    {
     "data": {
      "text/plain": [
       "education\n",
       "Bachelor's          39078\n",
       "Master's & above    14925\n",
       "Below Secondary       805\n",
       "Name: count, dtype: int64"
      ]
     },
     "execution_count": 14,
     "metadata": {},
     "output_type": "execute_result"
    }
   ],
   "source": [
    "datos.education.value_counts()\n",
    "#Bachelor's is the most common option, so i input missing values to Bachelor's\n"
   ]
  },
  {
   "cell_type": "code",
   "execution_count": 15,
   "id": "b3fe8011",
   "metadata": {},
   "outputs": [],
   "source": [
    "datos.education.fillna(\"Bachelor's\",inplace = True)"
   ]
  },
  {
   "cell_type": "code",
   "execution_count": 41,
   "id": "e0fb7457",
   "metadata": {
    "scrolled": true
   },
   "outputs": [
    {
     "name": "stdout",
     "output_type": "stream",
     "text": [
      " Porcentajes de ascenso:\n",
      " is_promoted              0         1\n",
      "education                           \n",
      "Bachelor's        0.917969  0.082031\n",
      "Below Secondary   0.916770  0.083230\n",
      "Master's & above  0.901441  0.098559\n"
     ]
    },
    {
     "data": {
      "text/plain": [
       "<AxesSubplot:xlabel='education'>"
      ]
     },
     "execution_count": 41,
     "metadata": {},
     "output_type": "execute_result"
    },
    {
     "data": {
      "image/png": "[encoded data removed]",
      "text/plain": [
       "<Figure size 432x288 with 1 Axes>"
      ]
     },
     "metadata": {
      "needs_background": "light"
     },
     "output_type": "display_data"
    }
   ],
   "source": [
    "cross_tab_education=pd.crosstab(index=datos['education'], columns=datos['is_promoted'], margins=False)\n",
    "\n",
    "print(\" Porcentajes de ascenso:\\n\",pd.crosstab(datos['education'], datos['is_promoted']).apply(lambda r: r/r.sum(), axis=1)) \n",
    "\n",
    "cross_tab_education.plot.bar(stacked=True)"
   ]
  },
  {
   "cell_type": "markdown",
   "id": "0637b9e9",
   "metadata": {},
   "source": [
    "### Takeaways:\n",
    "- Promotion percentage fairly balanced in 3 groups\n",
    "- Below secondary workforce is minuscule compared to other categories"
   ]
  },
  {
   "cell_type": "markdown",
   "id": "b297bc28",
   "metadata": {},
   "source": [
    "### Y with Gender"
   ]
  },
  {
   "cell_type": "code",
   "execution_count": 42,
   "id": "0b0991df",
   "metadata": {},
   "outputs": [
    {
     "data": {
      "text/plain": [
       "gender\n",
       "m    70.237921\n",
       "f    29.762079\n",
       "Name: count, dtype: float64"
      ]
     },
     "execution_count": 42,
     "metadata": {},
     "output_type": "execute_result"
    }
   ],
   "source": [
    "100 * datos['gender'].value_counts() / len(datos['gender'])"
   ]
  },
  {
   "cell_type": "code",
   "execution_count": 43,
   "id": "7be7503b",
   "metadata": {},
   "outputs": [
    {
     "name": "stdout",
     "output_type": "stream",
     "text": [
      " Porcentajes de ascenso:\n",
      " is_promoted         0         1\n",
      "gender                         \n",
      "f            0.910066  0.089934\n",
      "m            0.916849  0.083151\n"
     ]
    },
    {
     "data": {
      "text/plain": [
       "<AxesSubplot:xlabel='gender'>"
      ]
     },
     "execution_count": 43,
     "metadata": {},
     "output_type": "execute_result"
    },
    {
     "data": {
      "image/png": "[encoded data removed]",
      "text/plain": [
       "<Figure size 432x288 with 1 Axes>"
      ]
     },
     "metadata": {},
     "output_type": "display_data"
    }
   ],
   "source": [
    "\n",
    "\n",
    "cross_tab_gender = pd.crosstab(index=datos['gender'], columns=datos['is_promoted'], margins=False)\n",
    "\n",
    "print(\" Porcentajes de ascenso:\\n\",pd.crosstab(datos['gender'], datos['is_promoted']).apply(lambda r: r/r.sum(), axis=1))\n",
    "\n",
    "cross_tab_gender.plot.bar(stacked=True)"
   ]
  },
  {
   "cell_type": "markdown",
   "id": "0cd6e2f6",
   "metadata": {},
   "source": [
    "### Takeaways:\n",
    "- Unbalanced group, less F than M in the workforce"
   ]
  },
  {
   "cell_type": "markdown",
   "id": "5977de9e",
   "metadata": {},
   "source": [
    "### Y with recruitment_channel"
   ]
  },
  {
   "cell_type": "code",
   "execution_count": 44,
   "id": "0b65e5bc",
   "metadata": {},
   "outputs": [
    {
     "name": "stdout",
     "output_type": "stream",
     "text": [
      " Porcentajes de ascenso:\n",
      " is_promoted                 0         1\n",
      "recruitment_channel                    \n",
      "other                0.916048  0.083952\n",
      "referred             0.879159  0.120841\n",
      "sourcing             0.914987  0.085013\n",
      "Referred has higher percentage (12%) but the number of referred is very low\n"
     ]
    },
    {
     "data": {
      "image/png": "[encoded data removed]",
      "text/plain": [
       "<Figure size 432x288 with 1 Axes>"
      ]
     },
     "metadata": {
      "needs_background": "light"
     },
     "output_type": "display_data"
    }
   ],
   "source": [
    "cross_tab_channel = pd.crosstab(index=datos['recruitment_channel'], columns=datos['is_promoted'], margins=False)\n",
    "\n",
    "print(\" Porcentajes de ascenso:\\n\",pd.crosstab(datos['recruitment_channel'], datos['is_promoted']).apply(lambda r: r/r.sum(), axis=1))\n",
    "cross_tab_channel.plot.bar(stacked=True)\n",
    "\n",
    "print('Referred has higher percentage (12%) but the number of referred is very low')"
   ]
  },
  {
   "cell_type": "markdown",
   "id": "2a851a15",
   "metadata": {},
   "source": [
    "### Takeaway:\n",
    "- In the 9% group as other variables.\n",
    "- Referred has a higher percentage of promotion but far less values."
   ]
  },
  {
   "cell_type": "markdown",
   "id": "619a6656",
   "metadata": {},
   "source": [
    "## Y with numerical variables"
   ]
  },
  {
   "cell_type": "markdown",
   "id": "e390e746",
   "metadata": {},
   "source": [
    "### Y with no_of_trainings"
   ]
  },
  {
   "cell_type": "code",
   "execution_count": 45,
   "id": "5abae95f",
   "metadata": {
    "scrolled": true
   },
   "outputs": [
    {
     "data": {
      "text/html": [
       "<div>\n",
       "<style scoped>\n",
       "    .dataframe tbody tr th:only-of-type {\n",
       "        vertical-align: middle;\n",
       "    }\n",
       "\n",
       "    .dataframe tbody tr th {\n",
       "        vertical-align: top;\n",
       "    }\n",
       "\n",
       "    .dataframe thead th {\n",
       "        text-align: right;\n",
       "    }\n",
       "</style>\n",
       "<table border=\"1\" class=\"dataframe\">\n",
       "  <thead>\n",
       "    <tr style=\"text-align: right;\">\n",
       "      <th>is_promoted</th>\n",
       "      <th>0</th>\n",
       "      <th>1</th>\n",
       "    </tr>\n",
       "    <tr>\n",
       "      <th>no_of_trainings</th>\n",
       "      <th></th>\n",
       "      <th></th>\n",
       "    </tr>\n",
       "  </thead>\n",
       "  <tbody>\n",
       "    <tr>\n",
       "      <th>1</th>\n",
       "      <td>40468</td>\n",
       "      <td>3910</td>\n",
       "    </tr>\n",
       "    <tr>\n",
       "      <th>2</th>\n",
       "      <td>7382</td>\n",
       "      <td>605</td>\n",
       "    </tr>\n",
       "    <tr>\n",
       "      <th>3</th>\n",
       "      <td>1654</td>\n",
       "      <td>122</td>\n",
       "    </tr>\n",
       "    <tr>\n",
       "      <th>4</th>\n",
       "      <td>442</td>\n",
       "      <td>26</td>\n",
       "    </tr>\n",
       "    <tr>\n",
       "      <th>5</th>\n",
       "      <td>125</td>\n",
       "      <td>3</td>\n",
       "    </tr>\n",
       "    <tr>\n",
       "      <th>6</th>\n",
       "      <td>42</td>\n",
       "      <td>2</td>\n",
       "    </tr>\n",
       "    <tr>\n",
       "      <th>7</th>\n",
       "      <td>12</td>\n",
       "      <td>0</td>\n",
       "    </tr>\n",
       "    <tr>\n",
       "      <th>8</th>\n",
       "      <td>5</td>\n",
       "      <td>0</td>\n",
       "    </tr>\n",
       "    <tr>\n",
       "      <th>9</th>\n",
       "      <td>5</td>\n",
       "      <td>0</td>\n",
       "    </tr>\n",
       "    <tr>\n",
       "      <th>10</th>\n",
       "      <td>5</td>\n",
       "      <td>0</td>\n",
       "    </tr>\n",
       "  </tbody>\n",
       "</table>\n",
       "</div>"
      ],
      "text/plain": [
       "is_promoted          0     1\n",
       "no_of_trainings             \n",
       "1                40468  3910\n",
       "2                7382   605 \n",
       "3                1654   122 \n",
       "4                442    26  \n",
       "5                125    3   \n",
       "6                42     2   \n",
       "7                12     0   \n",
       "8                5      0   \n",
       "9                5      0   \n",
       "10               5      0   "
      ]
     },
     "execution_count": 45,
     "metadata": {},
     "output_type": "execute_result"
    }
   ],
   "source": [
    "cross_tab_training= pd.crosstab(index=datos['no_of_trainings'], columns=datos['is_promoted'], margins=False)\n",
    "cross_tab_trainingb"
   ]
  },
  {
   "cell_type": "markdown",
   "id": "28cf5bdc",
   "metadata": {},
   "source": [
    "### Output variable with age"
   ]
  },
  {
   "cell_type": "code",
   "execution_count": 47,
   "id": "2dd9b22d",
   "metadata": {},
   "outputs": [
    {
     "data": {
      "image/png": "[encoded data removed]",
      "text/plain": [
       "<Figure size 432x288 with 1 Axes>"
      ]
     },
     "metadata": {
      "needs_background": "light"
     },
     "output_type": "display_data"
    }
   ],
   "source": [
    "bplot_age = sns.boxplot(y='age', x='is_promoted', \n",
    "                 data=datos, \n",
    "                 width=0.5,\n",
    "                 palette=\"colorblind\",)"
   ]
  },
  {
   "cell_type": "markdown",
   "id": "79bde7f5",
   "metadata": {},
   "source": [
    "### Takeaways:\n",
    "- workforce in similar age, no discerning features"
   ]
  },
  {
   "cell_type": "markdown",
   "id": "9d68a203",
   "metadata": {},
   "source": [
    "### Output variable with previous_year_rating"
   ]
  },
  {
   "cell_type": "code",
   "execution_count": 21,
   "id": "3321d725",
   "metadata": {},
   "outputs": [
    {
     "name": "stdout",
     "output_type": "stream",
     "text": [
      "Most common value is 3.0, so we input the most common value for the missings\n"
     ]
    }
   ],
   "source": [
    "# Ordinary value, from 1.0 to 5.0\n",
    "# Missing values encountered in previous_year_rating\n",
    "datos.previous_year_rating.value_counts()\n",
    "print('Most common value is 3.0, so we input the most common value for the missings')\n",
    "datos.previous_year_rating.fillna(3.0,inplace = True)"
   ]
  },
  {
   "cell_type": "markdown",
   "id": "eb4cd764",
   "metadata": {},
   "source": [
    "Previous_year_rating is an ordinal, from 1.0 to 5.0"
   ]
  },
  {
   "cell_type": "code",
   "execution_count": 22,
   "id": "e4ceb04c",
   "metadata": {},
   "outputs": [
    {
     "name": "stdout",
     "output_type": "stream",
     "text": [
      " Promotion percentages:\n",
      " is_promoted                  0         1\n",
      "previous_year_rating                    \n",
      "1.0                   0.985859  0.014141\n",
      "2.0                   0.957160  0.042840\n",
      "3.0                   0.925512  0.074488\n",
      "4.0                   0.920624  0.079376\n",
      "5.0                   0.836385  0.163615\n"
     ]
    },
    {
     "data": {
      "text/plain": [
       "<AxesSubplot:xlabel='previous_year_rating'>"
      ]
     },
     "execution_count": 22,
     "metadata": {},
     "output_type": "execute_result"
    },
    {
     "data": {
      "image/png": "[encoded data removed]",
      "text/plain": [
       "<Figure size 432x288 with 1 Axes>"
      ]
     },
     "metadata": {
      "needs_background": "light"
     },
     "output_type": "display_data"
    }
   ],
   "source": [
    "\n",
    "print(\" Promotion percentages:\\n\",pd.crosstab(datos['previous_year_rating'], datos['is_promoted']).apply(lambda r: r/r.sum(), axis=1))\n",
    "\n",
    "cross_tab_rating = pd.crosstab(index=datos['previous_year_rating'], columns=datos['is_promoted'], margins=False)\n",
    "cross_tab_rating.plot.bar(stacked=True)"
   ]
  },
  {
   "cell_type": "markdown",
   "id": "fca87b5f",
   "metadata": {},
   "source": [
    "#### Takeaways:\n",
    " - Expected, with a 5.0 score, better probabilities to be promoted. The inverse is true with a 1.0 score.\n",
    " - No difference between 3.0 and 4.0."
   ]
  },
  {
   "cell_type": "markdown",
   "id": "1da80d6e",
   "metadata": {},
   "source": [
    "### Y con length_of_service"
   ]
  },
  {
   "cell_type": "code",
   "execution_count": 23,
   "id": "b9039f05",
   "metadata": {},
   "outputs": [
    {
     "name": "stdout",
     "output_type": "stream",
     "text": [
      "no visible differences according to the age\n"
     ]
    },
    {
     "data": {
      "image/png": "[encoded data removed]",
      "text/plain": [
       "<Figure size 360x360 with 1 Axes>"
      ]
     },
     "metadata": {
      "needs_background": "light"
     },
     "output_type": "display_data"
    }
   ],
   "source": [
    "sns.catplot(x=\"is_promoted\", y=\"length_of_service\",\n",
    "            kind=\"violin\", data=datos);\n",
    "print('no visible differences according to the age')"
   ]
  },
  {
   "cell_type": "markdown",
   "id": "0b3d4a87",
   "metadata": {},
   "source": [
    "### Y con KPI: "
   ]
  },
  {
   "cell_type": "code",
   "execution_count": 24,
   "id": "86d25e39",
   "metadata": {},
   "outputs": [
    {
     "name": "stdout",
     "output_type": "stream",
     "text": [
      " Porcentajes de ascenso:\n",
      " is_promoted           0         1\n",
      "KPIs_met >80%                    \n",
      "0              0.960413  0.039587\n",
      "1              0.830906  0.169094\n"
     ]
    },
    {
     "data": {
      "text/plain": [
       "<AxesSubplot:xlabel='KPIs_met >80%'>"
      ]
     },
     "execution_count": 24,
     "metadata": {},
     "output_type": "execute_result"
    },
    {
     "data": {
      "image/png": "[encoded data removed]",
      "text/plain": [
       "<Figure size 432x288 with 1 Axes>"
      ]
     },
     "metadata": {
      "needs_background": "light"
     },
     "output_type": "display_data"
    }
   ],
   "source": [
    "print(\" Porcentajes de ascenso:\\n\",pd.crosstab(datos['KPIs_met >80%'], datos['is_promoted']).apply(lambda r: r/r.sum(), axis=1))\n",
    "cross_tab_kpi = pd.crosstab(index=datos['KPIs_met >80%'], columns=datos['is_promoted'], margins=False)\n",
    "cross_tab_kpi.plot.bar(stacked=True)"
   ]
  },
  {
   "cell_type": "markdown",
   "id": "3e74ddc6",
   "metadata": {},
   "source": [
    "#### Takeaways:\n",
    "- 16% of people with KPI > 80% are promoted. Under 80% only 4% of people is promoted"
   ]
  },
  {
   "cell_type": "markdown",
   "id": "0573ebb7",
   "metadata": {},
   "source": [
    "### Y with awards_won: \n"
   ]
  },
  {
   "cell_type": "code",
   "execution_count": 26,
   "id": "69183b47",
   "metadata": {},
   "outputs": [
    {
     "name": "stdout",
     "output_type": "stream",
     "text": [
      " Promotion percentages:\n",
      " is_promoted         0         1\n",
      "awards_won?                    \n",
      "0            0.923251  0.076749\n",
      "1            0.559843  0.440157\n",
      "ascensos:\n",
      " is_promoted      0     1\n",
      "awards_won?             \n",
      "0            49429  4109\n",
      "1              711   559\n"
     ]
    },
    {
     "data": {
      "text/plain": [
       "<AxesSubplot:xlabel='awards_won?'>"
      ]
     },
     "execution_count": 26,
     "metadata": {},
     "output_type": "execute_result"
    },
    {
     "data": {
      "image/png": "[encoded data removed]",
      "text/plain": [
       "<Figure size 432x288 with 1 Axes>"
      ]
     },
     "metadata": {
      "needs_background": "light"
     },
     "output_type": "display_data"
    }
   ],
   "source": [
    "\n",
    "print(\" Promotion percentages:\\n\",pd.crosstab(datos['awards_won?'], datos['is_promoted']).apply(lambda r: r/r.sum(), axis=1))\n",
    "print(\"ascensos:\\n\",pd.crosstab(datos['awards_won?'], datos['is_promoted']))\n",
    "cross_tab_awards = pd.crosstab(index=datos['awards_won?'], columns=datos['is_promoted'], margins=False)\n",
    "cross_tab_awards.plot.bar(stacked=True)"
   ]
  },
  {
   "cell_type": "markdown",
   "id": "891a3113",
   "metadata": {},
   "source": [
    "#### Takeaways:\n",
    "- Only 2% of employees had an award\n",
    "- Of those, 44% were promoted\n",
    "- Regarding no award employees, only 7% were promoted.\n"
   ]
  },
  {
   "cell_type": "markdown",
   "id": "9430f3ba",
   "metadata": {},
   "source": [
    "#### Output column with continuous variables"
   ]
  },
  {
   "cell_type": "code",
   "execution_count": 27,
   "id": "44092112",
   "metadata": {},
   "outputs": [
    {
     "data": {
      "image/png": "[encoded data removed]",
      "text/plain": [
       "<Figure size 432x288 with 1 Axes>"
      ]
     },
     "metadata": {
      "needs_background": "light"
     },
     "output_type": "display_data"
    }
   ],
   "source": [
    "# Y with avg_training_score\n",
    "bplot = sns.boxplot(y='avg_training_score', x='is_promoted', \n",
    "                 data=datos, \n",
    "                 width=0.5,\n",
    "                 palette=\"colorblind\")"
   ]
  },
  {
   "cell_type": "markdown",
   "id": "d9f4c099",
   "metadata": {},
   "source": [
    "# Analysis Takeaways : \n",
    "- Output variable very unbalanced, only 10% of results end in promotion\n",
    "- Many categorical values and only 1 continuous (avg_training_score)\n",
    "- Should group variables for better analysisi\n",
    "- Most interesting columns: previous_year_rating, avg_training_score, KPI > 80%"
   ]
  },
  {
   "cell_type": "code",
   "execution_count": null,
   "id": "6165eb6a",
   "metadata": {},
   "outputs": [],
   "source": []
  }
 ],
 "metadata": {
  "kernelspec": {
   "display_name": "Python 3 (ipykernel)",
   "language": "python",
   "name": "python3"
  },
  "language_info": {
   "codemirror_mode": {
    "name": "ipython",
    "version": 3
   },
   "file_extension": ".py",
   "mimetype": "text/x-python",
   "name": "python",
   "nbconvert_exporter": "python",
   "pygments_lexer": "ipython3",
   "version": "3.10.0"
  }
 },
 "nbformat": 4,
 "nbformat_minor": 5
}
