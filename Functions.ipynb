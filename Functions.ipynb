{
 "cells": [
  {
   "cell_type": "code",
   "execution_count": 2,
   "id": "8dc1f642",
   "metadata": {},
   "outputs": [],
   "source": [
    "import seaborn as sns"
   ]
  },
  {
   "cell_type": "code",
   "execution_count": 3,
   "id": "a1b2bab2",
   "metadata": {},
   "outputs": [],
   "source": [
    "#returns value counts from the argument along the database\n",
    "def value_c(x,db):\n",
    "    return db[x].value_counts() "
   ]
  },
  {
   "cell_type": "code",
   "execution_count": 4,
   "id": "73b57ff8",
   "metadata": {},
   "outputs": [],
   "source": [
    "#Returns the grouping of the argument with the Y\"\n",
    "def group_y(x,db):\n",
    "    return db.groupby(x)['is_promoted'].value_counts() "
   ]
  },
  {
   "cell_type": "code",
   "execution_count": 5,
   "id": "9fde6c83",
   "metadata": {},
   "outputs": [],
   "source": [
    "#Returns grouping with percentages\n",
    "def group_perc(x):\n",
    "    return x.groupby(level=0).apply(lambda z: 100 * z / float(z.sum())) "
   ]
  },
  {
   "cell_type": "code",
   "execution_count": 6,
   "id": "6070a4f9",
   "metadata": {},
   "outputs": [],
   "source": [
    "# Performs all functions defined above\n",
    "def analisis(x,db):\n",
    "    x= str(x)\n",
    "    res_a = value_c(x,db)\n",
    "    group = group_y(x,db)\n",
    "    group_p = group_perc(group)\n",
    "    return print(\"Value:\\n\",res_a, \"\\n \\n \\n grouped percentage:\\n\", group_p)"
   ]
  },
  {
   "cell_type": "code",
   "execution_count": 7,
   "id": "bc165b32",
   "metadata": {},
   "outputs": [],
   "source": [
    "# Plots the argument\n",
    "def ploteo(z,db):\n",
    "    chart = sns.countplot(data=db, x=z,palette='Set1')\n",
    "    chart.set_xticklabels(chart.get_xticklabels(), rotation=45)\n",
    "    return chart"
   ]
  },
  {
   "cell_type": "code",
   "execution_count": null,
   "id": "dca4b407",
   "metadata": {},
   "outputs": [],
   "source": []
  }
 ],
 "metadata": {
  "kernelspec": {
   "display_name": "Python 3 (ipykernel)",
   "language": "python",
   "name": "python3"
  },
  "language_info": {
   "codemirror_mode": {
    "name": "ipython",
    "version": 3
   },
   "file_extension": ".py",
   "mimetype": "text/x-python",
   "name": "python",
   "nbconvert_exporter": "python",
   "pygments_lexer": "ipython3",
   "version": "3.10.0"
  }
 },
 "nbformat": 4,
 "nbformat_minor": 5
}
