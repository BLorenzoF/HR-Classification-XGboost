{
 "cells": [
  {
   "cell_type": "code",
   "execution_count": 1,
   "id": "455d9c85",
   "metadata": {},
   "outputs": [],
   "source": [
    "import pandas as pd\n",
    "import seaborn as sns\n",
    "import numpy as np\n",
    "import matplotlib.pyplot as plt\n",
    "%run functions.ipynb"
   ]
  },
  {
   "cell_type": "code",
   "execution_count": 2,
   "id": "e5998ffa",
   "metadata": {},
   "outputs": [],
   "source": [
    "#Load up trainhr.csv, with index being \"employee_id\"\n",
    "data_ori = pd.read_csv(\"train_hr.csv\",index_col = \"employee_id\")\n",
    "pd.set_option('display.max_columns', 20)"
   ]
  },
  {
   "cell_type": "code",
   "execution_count": 3,
   "id": "34cd94cf",
   "metadata": {},
   "outputs": [],
   "source": [
    "data = data_ori.copy()"
   ]
  },
  {
   "cell_type": "code",
   "execution_count": 4,
   "id": "0b0ce51c",
   "metadata": {},
   "outputs": [
    {
     "data": {
      "text/html": [
       "<div>\n",
       "<style scoped>\n",
       "    .dataframe tbody tr th:only-of-type {\n",
       "        vertical-align: middle;\n",
       "    }\n",
       "\n",
       "    .dataframe tbody tr th {\n",
       "        vertical-align: top;\n",
       "    }\n",
       "\n",
       "    .dataframe thead th {\n",
       "        text-align: right;\n",
       "    }\n",
       "</style>\n",
       "<table border=\"1\" class=\"dataframe\">\n",
       "  <thead>\n",
       "    <tr style=\"text-align: right;\">\n",
       "      <th></th>\n",
       "      <th>department</th>\n",
       "      <th>region</th>\n",
       "      <th>education</th>\n",
       "      <th>gender</th>\n",
       "      <th>recruitment_channel</th>\n",
       "      <th>no_of_trainings</th>\n",
       "      <th>age</th>\n",
       "      <th>previous_year_rating</th>\n",
       "      <th>length_of_service</th>\n",
       "      <th>KPIs_met &gt;80%</th>\n",
       "      <th>awards_won?</th>\n",
       "      <th>avg_training_score</th>\n",
       "      <th>is_promoted</th>\n",
       "    </tr>\n",
       "    <tr>\n",
       "      <th>employee_id</th>\n",
       "      <th></th>\n",
       "      <th></th>\n",
       "      <th></th>\n",
       "      <th></th>\n",
       "      <th></th>\n",
       "      <th></th>\n",
       "      <th></th>\n",
       "      <th></th>\n",
       "      <th></th>\n",
       "      <th></th>\n",
       "      <th></th>\n",
       "      <th></th>\n",
       "      <th></th>\n",
       "    </tr>\n",
       "  </thead>\n",
       "  <tbody>\n",
       "    <tr>\n",
       "      <th>65438</th>\n",
       "      <td>Sales &amp; Marketing</td>\n",
       "      <td>region_7</td>\n",
       "      <td>Master's &amp; above</td>\n",
       "      <td>f</td>\n",
       "      <td>sourcing</td>\n",
       "      <td>1</td>\n",
       "      <td>35</td>\n",
       "      <td>5.0</td>\n",
       "      <td>8</td>\n",
       "      <td>1</td>\n",
       "      <td>0</td>\n",
       "      <td>49</td>\n",
       "      <td>0</td>\n",
       "    </tr>\n",
       "    <tr>\n",
       "      <th>65141</th>\n",
       "      <td>Operations</td>\n",
       "      <td>region_22</td>\n",
       "      <td>Bachelor's</td>\n",
       "      <td>m</td>\n",
       "      <td>other</td>\n",
       "      <td>1</td>\n",
       "      <td>30</td>\n",
       "      <td>5.0</td>\n",
       "      <td>4</td>\n",
       "      <td>0</td>\n",
       "      <td>0</td>\n",
       "      <td>60</td>\n",
       "      <td>0</td>\n",
       "    </tr>\n",
       "    <tr>\n",
       "      <th>7513</th>\n",
       "      <td>Sales &amp; Marketing</td>\n",
       "      <td>region_19</td>\n",
       "      <td>Bachelor's</td>\n",
       "      <td>m</td>\n",
       "      <td>sourcing</td>\n",
       "      <td>1</td>\n",
       "      <td>34</td>\n",
       "      <td>3.0</td>\n",
       "      <td>7</td>\n",
       "      <td>0</td>\n",
       "      <td>0</td>\n",
       "      <td>50</td>\n",
       "      <td>0</td>\n",
       "    </tr>\n",
       "    <tr>\n",
       "      <th>2542</th>\n",
       "      <td>Sales &amp; Marketing</td>\n",
       "      <td>region_23</td>\n",
       "      <td>Bachelor's</td>\n",
       "      <td>m</td>\n",
       "      <td>other</td>\n",
       "      <td>2</td>\n",
       "      <td>39</td>\n",
       "      <td>1.0</td>\n",
       "      <td>10</td>\n",
       "      <td>0</td>\n",
       "      <td>0</td>\n",
       "      <td>50</td>\n",
       "      <td>0</td>\n",
       "    </tr>\n",
       "    <tr>\n",
       "      <th>48945</th>\n",
       "      <td>Technology</td>\n",
       "      <td>region_26</td>\n",
       "      <td>Bachelor's</td>\n",
       "      <td>m</td>\n",
       "      <td>other</td>\n",
       "      <td>1</td>\n",
       "      <td>45</td>\n",
       "      <td>3.0</td>\n",
       "      <td>2</td>\n",
       "      <td>0</td>\n",
       "      <td>0</td>\n",
       "      <td>73</td>\n",
       "      <td>0</td>\n",
       "    </tr>\n",
       "  </tbody>\n",
       "</table>\n",
       "</div>"
      ],
      "text/plain": [
       "                    department     region         education gender   \n",
       "employee_id                                                          \n",
       "65438        Sales & Marketing   region_7  Master's & above      f  \\\n",
       "65141               Operations  region_22        Bachelor's      m   \n",
       "7513         Sales & Marketing  region_19        Bachelor's      m   \n",
       "2542         Sales & Marketing  region_23        Bachelor's      m   \n",
       "48945               Technology  region_26        Bachelor's      m   \n",
       "\n",
       "            recruitment_channel  no_of_trainings  age  previous_year_rating   \n",
       "employee_id                                                                   \n",
       "65438                  sourcing                1   35                   5.0  \\\n",
       "65141                     other                1   30                   5.0   \n",
       "7513                   sourcing                1   34                   3.0   \n",
       "2542                      other                2   39                   1.0   \n",
       "48945                     other                1   45                   3.0   \n",
       "\n",
       "             length_of_service  KPIs_met >80%  awards_won?   \n",
       "employee_id                                                  \n",
       "65438                        8              1            0  \\\n",
       "65141                        4              0            0   \n",
       "7513                         7              0            0   \n",
       "2542                        10              0            0   \n",
       "48945                        2              0            0   \n",
       "\n",
       "             avg_training_score  is_promoted  \n",
       "employee_id                                   \n",
       "65438                        49            0  \n",
       "65141                        60            0  \n",
       "7513                         50            0  \n",
       "2542                         50            0  \n",
       "48945                        73            0  "
      ]
     },
     "execution_count": 4,
     "metadata": {},
     "output_type": "execute_result"
    }
   ],
   "source": [
    "data.head()"
   ]
  },
  {
   "cell_type": "code",
   "execution_count": 5,
   "id": "8e6767db",
   "metadata": {},
   "outputs": [
    {
     "data": {
      "text/plain": [
       "department                 0\n",
       "region                     0\n",
       "education               2409\n",
       "gender                     0\n",
       "recruitment_channel        0\n",
       "no_of_trainings            0\n",
       "age                        0\n",
       "previous_year_rating    4124\n",
       "length_of_service          0\n",
       "KPIs_met >80%              0\n",
       "awards_won?                0\n",
       "avg_training_score         0\n",
       "is_promoted                0\n",
       "dtype: int64"
      ]
     },
     "execution_count": 5,
     "metadata": {},
     "output_type": "execute_result"
    }
   ],
   "source": [
    "#Understand how many null data in the file\n",
    "data.isnull().sum()"
   ]
  },
  {
   "cell_type": "code",
   "execution_count": 6,
   "id": "2699114b",
   "metadata": {},
   "outputs": [],
   "source": [
    "#Missing values imputation\n",
    "data.education.fillna(\"Bachelor's\",inplace = True)\n",
    "data.previous_year_rating.fillna(3.0,inplace = True)"
   ]
  },
  {
   "cell_type": "code",
   "execution_count": 7,
   "id": "45c10edc",
   "metadata": {
    "scrolled": true
   },
   "outputs": [
    {
     "data": {
      "text/plain": [
       "education\n",
       "Bachelor's          39078\n",
       "Master's & above    14925\n",
       "Below Secondary       805\n",
       "Name: count, dtype: int64"
      ]
     },
     "execution_count": 7,
     "metadata": {},
     "output_type": "execute_result"
    }
   ],
   "source": [
    "#Value count per education level\n",
    "data.education.value_counts()"
   ]
  },
  {
   "cell_type": "markdown",
   "id": "99856006",
   "metadata": {},
   "source": [
    "## Correlation table"
   ]
  },
  {
   "cell_type": "code",
   "execution_count": 8,
   "id": "dcb74e11",
   "metadata": {},
   "outputs": [
    {
     "data": {
      "image/png": "[encoded data removed]",
      "text/plain": [
       "<Figure size 864x648 with 2 Axes>"
      ]
     },
     "metadata": {
      "needs_background": "light"
     },
     "output_type": "display_data"
    }
   ],
   "source": [
    "corrmat = data.corr( numeric_only=True)\n",
    "f, ax = plt.subplots(figsize=(12, 9))\n",
    "sns.heatmap(corrmat, vmax=.8, square=True,);"
   ]
  },
  {
   "cell_type": "code",
   "execution_count": 9,
   "id": "a6b62776",
   "metadata": {},
   "outputs": [
    {
     "name": "stdout",
     "output_type": "stream",
     "text": [
      "age                   length_of_service       0.657111\n",
      "previous_year_rating  KPIs_met >80%           0.337367\n",
      "KPIs_met >80%         is_promoted             0.221582\n",
      "awards_won?           is_promoted             0.195871\n",
      "avg_training_score    is_promoted             0.181147\n",
      "previous_year_rating  is_promoted             0.153230\n",
      "KPIs_met >80%         awards_won?             0.097000\n",
      "no_of_trainings       age                     0.081278\n",
      "KPIs_met >80%         avg_training_score      0.078391\n",
      "length_of_service     KPIs_met >80%           0.077693\n",
      "awards_won?           avg_training_score      0.072138\n",
      "previous_year_rating  avg_training_score      0.071926\n",
      "no_of_trainings       previous_year_rating    0.061564\n",
      "                      length_of_service       0.057275\n",
      "age                   avg_training_score      0.048380\n",
      "no_of_trainings       KPIs_met >80%           0.045576\n",
      "                      avg_training_score      0.042517\n",
      "length_of_service     awards_won?             0.039927\n",
      "                      avg_training_score      0.038122\n",
      "age                   previous_year_rating    0.026810\n",
      "previous_year_rating  awards_won?             0.026587\n",
      "age                   KPIs_met >80%           0.025592\n",
      "no_of_trainings       is_promoted             0.024896\n",
      "previous_year_rating  length_of_service       0.023504\n",
      "age                   is_promoted             0.017166\n",
      "length_of_service     is_promoted             0.010670\n",
      "age                   awards_won?             0.008169\n",
      "no_of_trainings       awards_won?             0.007628\n",
      "dtype: float64\n"
     ]
    }
   ],
   "source": [
    "corr_matrix = data.corr(numeric_only = True).abs() \n",
    "#the matrix is symmetric so we need to extract upper triangle matrix without diagonal (k = 1)\n",
    "sol = (corr_matrix.where(np.triu(np.ones(corr_matrix.shape), k=1).astype(bool))\n",
    "                 .stack()\n",
    "                 .sort_values(ascending=False))\n",
    "\n",
    "print(sol)"
   ]
  },
  {
   "cell_type": "markdown",
   "id": "89f2b5b4",
   "metadata": {},
   "source": [
    "##### Takeaway:\n",
    "- Only slightly important correlation is age and length_of_service"
   ]
  },
  {
   "cell_type": "markdown",
   "id": "c989fac6",
   "metadata": {},
   "source": [
    "## Univariant analysis"
   ]
  },
  {
   "cell_type": "code",
   "execution_count": 10,
   "id": "1a2bcb94",
   "metadata": {},
   "outputs": [
    {
     "name": "stdout",
     "output_type": "stream",
     "text": [
      "Value:\n",
      " no_of_trainings\n",
      "1     44378\n",
      "2      7987\n",
      "3      1776\n",
      "4       468\n",
      "5       128\n",
      "6        44\n",
      "7        12\n",
      "8         5\n",
      "10        5\n",
      "9         5\n",
      "Name: count, dtype: int64 \n",
      " \n",
      " \n",
      " grouped percentage:\n",
      " no_of_trainings  no_of_trainings  is_promoted\n",
      "1                1                0               91.189328\n",
      "                                  1                8.810672\n",
      "2                2                0               92.425191\n",
      "                                  1                7.574809\n",
      "3                3                0               93.130631\n",
      "                                  1                6.869369\n",
      "4                4                0               94.444444\n",
      "                                  1                5.555556\n",
      "5                5                0               97.656250\n",
      "                                  1                2.343750\n",
      "6                6                0               95.454545\n",
      "                                  1                4.545455\n",
      "7                7                0              100.000000\n",
      "8                8                0              100.000000\n",
      "9                9                0              100.000000\n",
      "10               10               0              100.000000\n",
      "Name: count, dtype: float64\n"
     ]
    }
   ],
   "source": [
    "##no_of_trainings\n",
    "analisis(\"no_of_trainings\",data)\n",
    "\n",
    "#We can observe that from 6 training sessions upwards the groups are very small (less than 30 rows)"
   ]
  },
  {
   "cell_type": "code",
   "execution_count": 11,
   "id": "af29d86d",
   "metadata": {},
   "outputs": [],
   "source": [
    "#Binning rows where there are more than 6 training sessions into one group.\n",
    "data[\"training_sessions\"] = np.where(data[\"no_of_trainings\"] >= 6, \"6+\",data[\"no_of_trainings\"]) "
   ]
  },
  {
   "cell_type": "code",
   "execution_count": 12,
   "id": "f56d3ef8",
   "metadata": {},
   "outputs": [
    {
     "name": "stdout",
     "output_type": "stream",
     "text": [
      "Value:\n",
      " training_sessions\n",
      "1     44378\n",
      "2      7987\n",
      "3      1776\n",
      "4       468\n",
      "5       128\n",
      "6+       71\n",
      "Name: count, dtype: int64 \n",
      " \n",
      " \n",
      " grouped percentage:\n",
      " training_sessions  training_sessions  is_promoted\n",
      "1                  1                  0              91.189328\n",
      "                                      1               8.810672\n",
      "2                  2                  0              92.425191\n",
      "                                      1               7.574809\n",
      "3                  3                  0              93.130631\n",
      "                                      1               6.869369\n",
      "4                  4                  0              94.444444\n",
      "                                      1               5.555556\n",
      "5                  5                  0              97.656250\n",
      "                                      1               2.343750\n",
      "6+                 6+                 0              97.183099\n",
      "                                      1               2.816901\n",
      "Name: count, dtype: float64\n"
     ]
    },
    {
     "data": {
      "text/plain": [
       "<AxesSubplot:xlabel='training_sessions', ylabel='count'>"
      ]
     },
     "execution_count": 12,
     "metadata": {},
     "output_type": "execute_result"
    },
    {
     "data": {
      "image/png": "[encoded data removed]",
      "text/plain": [
       "<Figure size 432x288 with 1 Axes>"
      ]
     },
     "metadata": {
      "needs_background": "light"
     },
     "output_type": "display_data"
    }
   ],
   "source": [
    "#Analizing variable training_sessions related to Variable y (is_promoted)\n",
    "analisis(\"training_sessions\",data)\n",
    "ploteo(\"training_sessions\",data)"
   ]
  },
  {
   "cell_type": "code",
   "execution_count": 13,
   "id": "3b4f41e6",
   "metadata": {},
   "outputs": [
    {
     "name": "stdout",
     "output_type": "stream",
     "text": [
      "Value:\n",
      " education\n",
      "Bachelor's          39078\n",
      "Master's & above    14925\n",
      "Below Secondary       805\n",
      "Name: count, dtype: int64 \n",
      " \n",
      " \n",
      " grouped percentage:\n",
      " education         education         is_promoted\n",
      "Bachelor's        Bachelor's        0              91.990378\n",
      "                                    1               8.009622\n",
      "Below Secondary   Below Secondary   0              91.677019\n",
      "                                    1               8.322981\n",
      "Master's & above  Master's & above  0              90.144054\n",
      "                                    1               9.855946\n",
      "Name: count, dtype: float64\n"
     ]
    },
    {
     "data": {
      "text/plain": [
       "<AxesSubplot:xlabel='education', ylabel='count'>"
      ]
     },
     "execution_count": 13,
     "metadata": {},
     "output_type": "execute_result"
    },
    {
     "data": {
      "image/png": "[encoded data removed]",
      "text/plain": [
       "<Figure size 432x288 with 1 Axes>"
      ]
     },
     "metadata": {
      "needs_background": "light"
     },
     "output_type": "display_data"
    }
   ],
   "source": [
    "#education\n",
    "analisis(\"education\",data)\n",
    "ploteo(\"education\",data)"
   ]
  },
  {
   "cell_type": "code",
   "execution_count": 14,
   "id": "c7f7fbd7",
   "metadata": {},
   "outputs": [
    {
     "name": "stdout",
     "output_type": "stream",
     "text": [
      "Value:\n",
      " gender\n",
      "m    38496\n",
      "f    16312\n",
      "Name: count, dtype: int64 \n",
      " \n",
      " \n",
      " grouped percentage:\n",
      " gender  gender  is_promoted\n",
      "f       f       0              91.006621\n",
      "                1               8.993379\n",
      "m       m       0              91.684850\n",
      "                1               8.315150\n",
      "Name: count, dtype: float64\n"
     ]
    },
    {
     "data": {
      "text/plain": [
       "<AxesSubplot:xlabel='gender', ylabel='count'>"
      ]
     },
     "execution_count": 14,
     "metadata": {},
     "output_type": "execute_result"
    },
    {
     "data": {
      "image/png": "[encoded data removed]",
      "text/plain": [
       "<Figure size 432x288 with 1 Axes>"
      ]
     },
     "metadata": {
      "needs_background": "light"
     },
     "output_type": "display_data"
    }
   ],
   "source": [
    "##gender\n",
    "analisis(\"gender\",data)\n",
    "ploteo(\"gender\",data)"
   ]
  },
  {
   "cell_type": "code",
   "execution_count": 15,
   "id": "4a28c623",
   "metadata": {},
   "outputs": [
    {
     "name": "stdout",
     "output_type": "stream",
     "text": [
      "Value:\n",
      " recruitment_channel\n",
      "other       30446\n",
      "sourcing    23220\n",
      "referred     1142\n",
      "Name: count, dtype: int64 \n",
      " \n",
      " \n",
      " grouped percentage:\n",
      " recruitment_channel  recruitment_channel  is_promoted\n",
      "other                other                0              91.604809\n",
      "                                          1               8.395191\n",
      "referred             referred             0              87.915937\n",
      "                                          1              12.084063\n",
      "sourcing             sourcing             0              91.498708\n",
      "                                          1               8.501292\n",
      "Name: count, dtype: float64\n"
     ]
    },
    {
     "data": {
      "text/plain": [
       "<AxesSubplot:xlabel='recruitment_channel', ylabel='count'>"
      ]
     },
     "execution_count": 15,
     "metadata": {},
     "output_type": "execute_result"
    },
    {
     "data": {
      "image/png": "[encoded data removed]",
      "text/plain": [
       "<Figure size 432x288 with 1 Axes>"
      ]
     },
     "metadata": {
      "needs_background": "light"
     },
     "output_type": "display_data"
    }
   ],
   "source": [
    "analisis(\"recruitment_channel\",data)\n",
    "ploteo(\"recruitment_channel\",data)"
   ]
  },
  {
   "cell_type": "code",
   "execution_count": 16,
   "id": "341644e1",
   "metadata": {},
   "outputs": [
    {
     "name": "stdout",
     "output_type": "stream",
     "text": [
      "Value:\n",
      " previous_year_rating\n",
      "3.0    22742\n",
      "5.0    11741\n",
      "4.0     9877\n",
      "1.0     6223\n",
      "2.0     4225\n",
      "Name: count, dtype: int64 \n",
      " \n",
      " \n",
      " grouped percentage:\n",
      " previous_year_rating  previous_year_rating  is_promoted\n",
      "1.0                   1.0                   0              98.585891\n",
      "                                            1               1.414109\n",
      "2.0                   2.0                   0              95.715976\n",
      "                                            1               4.284024\n",
      "3.0                   3.0                   0              92.551227\n",
      "                                            1               7.448773\n",
      "4.0                   4.0                   0              92.062367\n",
      "                                            1               7.937633\n",
      "5.0                   5.0                   0              83.638532\n",
      "                                            1              16.361468\n",
      "Name: count, dtype: float64\n"
     ]
    },
    {
     "data": {
      "text/plain": [
       "<AxesSubplot:xlabel='previous_year_rating', ylabel='count'>"
      ]
     },
     "execution_count": 16,
     "metadata": {},
     "output_type": "execute_result"
    },
    {
     "data": {
      "image/png": "[encoded data removed]",
      "text/plain": [
       "<Figure size 432x288 with 1 Axes>"
      ]
     },
     "metadata": {
      "needs_background": "light"
     },
     "output_type": "display_data"
    }
   ],
   "source": [
    "##previous_year_rating   \n",
    "analisis(\"previous_year_rating\",data)\n",
    "ploteo(\"previous_year_rating\",data)"
   ]
  },
  {
   "cell_type": "code",
   "execution_count": 17,
   "id": "0d6ee939",
   "metadata": {},
   "outputs": [
    {
     "name": "stdout",
     "output_type": "stream",
     "text": [
      "Value:\n",
      " KPIs_met >80%\n",
      "0    35517\n",
      "1    19291\n",
      "Name: count, dtype: int64 \n",
      " \n",
      " \n",
      " grouped percentage:\n",
      " KPIs_met >80%  KPIs_met >80%  is_promoted\n",
      "0              0              0              96.041332\n",
      "                              1               3.958668\n",
      "1              1              0              83.090560\n",
      "                              1              16.909440\n",
      "Name: count, dtype: float64\n"
     ]
    },
    {
     "data": {
      "text/plain": [
       "<AxesSubplot:xlabel='KPIs_met >80%', ylabel='count'>"
      ]
     },
     "execution_count": 17,
     "metadata": {},
     "output_type": "execute_result"
    },
    {
     "data": {
      "image/png": "[encoded data removed]",
      "text/plain": [
       "<Figure size 432x288 with 1 Axes>"
      ]
     },
     "metadata": {
      "needs_background": "light"
     },
     "output_type": "display_data"
    }
   ],
   "source": [
    "##KPIs_met >80%\n",
    "analisis(\"KPIs_met >80%\",data)\n",
    "ploteo(\"KPIs_met >80%\",data)"
   ]
  },
  {
   "cell_type": "code",
   "execution_count": 18,
   "id": "4532926e",
   "metadata": {},
   "outputs": [
    {
     "name": "stdout",
     "output_type": "stream",
     "text": [
      "Value:\n",
      " awards_won?\n",
      "0    53538\n",
      "1     1270\n",
      "Name: count, dtype: int64 \n",
      " \n",
      " \n",
      " grouped percentage:\n",
      " awards_won?  awards_won?  is_promoted\n",
      "0            0            0              92.325078\n",
      "                          1               7.674922\n",
      "1            1            0              55.984252\n",
      "                          1              44.015748\n",
      "Name: count, dtype: float64\n"
     ]
    },
    {
     "data": {
      "text/plain": [
       "<AxesSubplot:xlabel='awards_won?', ylabel='count'>"
      ]
     },
     "execution_count": 18,
     "metadata": {},
     "output_type": "execute_result"
    },
    {
     "data": {
      "image/png": "[encoded data removed]",
      "text/plain": [
       "<Figure size 432x288 with 1 Axes>"
      ]
     },
     "metadata": {
      "needs_background": "light"
     },
     "output_type": "display_data"
    }
   ],
   "source": [
    "##awards_won?\n",
    "analisis(\"awards_won?\",data)\n",
    "ploteo(\"awards_won?\",data)"
   ]
  },
  {
   "cell_type": "code",
   "execution_count": 19,
   "id": "fffa3489",
   "metadata": {},
   "outputs": [
    {
     "name": "stdout",
     "output_type": "stream",
     "text": [
      "Value:\n",
      " department\n",
      "Sales & Marketing    16840\n",
      "Operations           11348\n",
      "Technology            7138\n",
      "Procurement           7138\n",
      "Analytics             5352\n",
      "Finance               2536\n",
      "HR                    2418\n",
      "Legal                 1039\n",
      "R&D                    999\n",
      "Name: count, dtype: int64 \n",
      " \n",
      " \n",
      " grouped percentage:\n",
      " department         department         is_promoted\n",
      "Analytics          Analytics          0              90.433483\n",
      "                                      1               9.566517\n",
      "Finance            Finance            0              91.876972\n",
      "                                      1               8.123028\n",
      "HR                 HR                 0              94.375517\n",
      "                                      1               5.624483\n",
      "Legal              Legal              0              94.898941\n",
      "                                      1               5.101059\n",
      "Operations         Operations         0              90.985196\n",
      "                                      1               9.014804\n",
      "Procurement        Procurement        0              90.361446\n",
      "                                      1               9.638554\n",
      "R&D                R&D                0              93.093093\n",
      "                                      1               6.906907\n",
      "Sales & Marketing  Sales & Marketing  0              92.796912\n",
      "                                      1               7.203088\n",
      "Technology         Technology         0              89.240684\n",
      "                                      1              10.759316\n",
      "Name: count, dtype: float64\n"
     ]
    },
    {
     "data": {
      "text/plain": [
       "<AxesSubplot:xlabel='department', ylabel='count'>"
      ]
     },
     "execution_count": 19,
     "metadata": {},
     "output_type": "execute_result"
    },
    {
     "data": {
      "image/png": "[encoded data removed]",
      "text/plain": [
       "<Figure size 432x288 with 1 Axes>"
      ]
     },
     "metadata": {
      "needs_background": "light"
     },
     "output_type": "display_data"
    }
   ],
   "source": [
    "##department\n",
    "analisis(\"department\",data)\n",
    "ploteo(\"department\",data)"
   ]
  }
 ],
 "metadata": {
  "kernelspec": {
   "display_name": "Python 3 (ipykernel)",
   "language": "python",
   "name": "python3"
  },
  "language_info": {
   "codemirror_mode": {
    "name": "ipython",
    "version": 3
   },
   "file_extension": ".py",
   "mimetype": "text/x-python",
   "name": "python",
   "nbconvert_exporter": "python",
   "pygments_lexer": "ipython3",
   "version": "3.10.0"
  }
 },
 "nbformat": 4,
 "nbformat_minor": 5
}
